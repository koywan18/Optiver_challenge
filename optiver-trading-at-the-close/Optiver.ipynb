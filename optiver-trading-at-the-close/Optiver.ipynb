{
 "cells": [
  {
   "cell_type": "markdown",
   "metadata": {},
   "source": [
    "### Importing the libraries"
   ]
  },
  {
   "cell_type": "code",
   "execution_count": 2,
   "metadata": {},
   "outputs": [],
   "source": [
    "import numpy as np\n",
    "import pandas as pd\n",
    "import matplotlib.pyplot as plt\n",
    "import seaborn as sns\n",
    "import tensorflow as tf\n",
    "import gc\n",
    "\n",
    "from sklearn import set_config\n",
    "from sklearn.preprocessing import FunctionTransformer\n",
    "from sklearn.pipeline import Pipeline\n",
    "from sklearn.model_selection import TimeSeriesSplit\n",
    "from sklearn.metrics import mean_absolute_error\n",
    "from xgboost import XGBRegressor\n",
    "from catboost import CatBoostRegressor\n"
   ]
  },
  {
   "cell_type": "markdown",
   "metadata": {},
   "source": [
    "Set visualization style"
   ]
  },
  {
   "cell_type": "code",
   "execution_count": 3,
   "metadata": {},
   "outputs": [],
   "source": [
    "sns.set_theme(style='white', palette='viridis')"
   ]
  },
  {
   "cell_type": "markdown",
   "metadata": {},
   "source": [
    "Set pandas display options"
   ]
  },
  {
   "cell_type": "code",
   "execution_count": 4,
   "metadata": {},
   "outputs": [],
   "source": [
    "pd.set_option('display.max_rows', 100)\n",
    "set_config(transform_output='pandas')\n",
    "pd.options.mode.chained_assignment = None"
   ]
  },
  {
   "cell_type": "markdown",
   "metadata": {},
   "source": [
    "Change data type for memory optimization"
   ]
  },
  {
   "cell_type": "code",
   "execution_count": 5,
   "metadata": {},
   "outputs": [],
   "source": [
    "dtypes = {\n",
    "    'stock_id': np.uint8,\n",
    "    'date_id': np.uint16,\n",
    "    'seconds_in_bucket': np.uint16,\n",
    "    'imbalance_buy_sell_flag': np.int8,\n",
    "    'time_id': np.uint16,\n",
    "}"
   ]
  },
  {
   "cell_type": "markdown",
   "metadata": {},
   "source": [
    "### Downloading the data   "
   ]
  },
  {
   "cell_type": "code",
   "execution_count": 11,
   "metadata": {},
   "outputs": [
    {
     "data": {
      "text/plain": [
       "0"
      ]
     },
     "execution_count": 11,
     "metadata": {},
     "output_type": "execute_result"
    }
   ],
   "source": [
    "train = pd.read_csv('/Users/charliemarchal/Desktop/Kaggle_challenge/Optiver_challenge/optiver-trading-at-the-close/train.csv', dtype=dtypes) #.drop(['row_id', 'time_id'], axis=1)\n",
    "test = pd.read_csv('Optiver_challenge/optiver-trading-at-the-close/example_test_files/test.csv', dtype=dtypes).drop(['row_id', 'time_id'], axis=1)\n",
    "train.shape\n",
    "\n",
    "# Memory cleanup\n",
    "gc.collect()"
   ]
  },
  {
   "cell_type": "markdown",
   "metadata": {},
   "source": [
    "## Handling missing data"
   ]
  },
  {
   "cell_type": "code",
   "execution_count": 6,
   "metadata": {},
   "outputs": [
    {
     "name": "stdout",
     "output_type": "stream",
     "text": [
      "Missing Values in Each Column:\n",
      " stock_id                         0\n",
      "date_id                          0\n",
      "seconds_in_bucket                0\n",
      "imbalance_size                 220\n",
      "imbalance_buy_sell_flag          0\n",
      "reference_price                220\n",
      "matched_size                   220\n",
      "far_price                  2894342\n",
      "near_price                 2857180\n",
      "bid_price                      220\n",
      "bid_size                         0\n",
      "ask_price                      220\n",
      "ask_size                         0\n",
      "wap                            220\n",
      "target                          88\n",
      "dtype: int64\n",
      "\n",
      "Percentage of Missing Values in Each Column:\n",
      " stock_id                    0.000000\n",
      "date_id                     0.000000\n",
      "seconds_in_bucket           0.000000\n",
      "imbalance_size              0.004200\n",
      "imbalance_buy_sell_flag     0.000000\n",
      "reference_price             0.004200\n",
      "matched_size                0.004200\n",
      "far_price                  55.256836\n",
      "near_price                 54.547364\n",
      "bid_price                   0.004200\n",
      "bid_size                    0.000000\n",
      "ask_price                   0.004200\n",
      "ask_size                    0.000000\n",
      "wap                         0.004200\n",
      "target                      0.001680\n",
      "dtype: float64\n"
     ]
    }
   ],
   "source": [
    "missing_values = train.isnull().sum()\n",
    "missing_percentage = (missing_values / len(train)) * 100\n",
    "print(\"\\nPercentage of Missing Values in Each Column:\\n\", missing_percentage)"
   ]
  },
  {
   "cell_type": "markdown",
   "metadata": {},
   "source": [
    "Handling missing values using median imputation"
   ]
  },
  {
   "cell_type": "code",
   "execution_count": 7,
   "metadata": {},
   "outputs": [],
   "source": [
    "for column in train.columns:\n",
    "    if train[column].isnull().any():\n",
    "        train[column].fillna(train[column].median(), inplace=True)"
   ]
  },
  {
   "cell_type": "markdown",
   "metadata": {},
   "source": [
    "Same for test set"
   ]
  },
  {
   "cell_type": "code",
   "execution_count": 8,
   "metadata": {},
   "outputs": [
    {
     "name": "stdout",
     "output_type": "stream",
     "text": [
      "Missing Values in Each Column:\n",
      " stock_id                       0\n",
      "date_id                        0\n",
      "seconds_in_bucket              0\n",
      "imbalance_size                 0\n",
      "imbalance_buy_sell_flag        0\n",
      "reference_price                0\n",
      "matched_size                   0\n",
      "far_price                  18229\n",
      "near_price                 18000\n",
      "bid_price                      0\n",
      "bid_size                       0\n",
      "ask_price                      0\n",
      "ask_size                       0\n",
      "wap                            0\n",
      "currently_scored               0\n",
      "dtype: int64\n",
      "\n",
      "Percentage of Missing Values in Each Column:\n",
      " stock_id                    0.000000\n",
      "date_id                     0.000000\n",
      "seconds_in_bucket           0.000000\n",
      "imbalance_size              0.000000\n",
      "imbalance_buy_sell_flag     0.000000\n",
      "reference_price             0.000000\n",
      "matched_size                0.000000\n",
      "far_price                  55.239394\n",
      "near_price                 54.545455\n",
      "bid_price                   0.000000\n",
      "bid_size                    0.000000\n",
      "ask_price                   0.000000\n",
      "ask_size                    0.000000\n",
      "wap                         0.000000\n",
      "currently_scored            0.000000\n",
      "dtype: float64\n"
     ]
    }
   ],
   "source": [
    "missing_values = test.isnull().sum()\n",
    "missing_percentage = (missing_values / len(test)) * 100\n",
    "print(\"\\nPercentage of Missing Values in Each Column:\\n\", missing_percentage)\n",
    "\n",
    "for column in test.columns:\n",
    "    if test[column].isnull().any():\n",
    "        test[column].fillna(test[column].median(), inplace=True)"
   ]
  },
  {
   "cell_type": "markdown",
   "metadata": {},
   "source": [
    "### Feature engineering"
   ]
  },
  {
   "cell_type": "code",
   "execution_count": 9,
   "metadata": {},
   "outputs": [
    {
     "data": {
      "text/plain": [
       "['stock_id',\n",
       " 'date_id',\n",
       " 'seconds_in_bucket',\n",
       " 'imbalance_size',\n",
       " 'imbalance_buy_sell_flag',\n",
       " 'reference_price',\n",
       " 'matched_size',\n",
       " 'far_price',\n",
       " 'near_price',\n",
       " 'bid_price',\n",
       " 'bid_size',\n",
       " 'ask_price',\n",
       " 'ask_size',\n",
       " 'wap',\n",
       " 'target',\n",
       " 'bid_ask_size_imbalance',\n",
       " 'matched_imbalance_ratio',\n",
       " 'ask_price_bid_price_diff',\n",
       " 'ask_price_bid_price_ratio',\n",
       " 'ask_price_far_price_diff',\n",
       " 'ask_price_far_price_ratio',\n",
       " 'ask_price_near_price_diff',\n",
       " 'ask_price_near_price_ratio',\n",
       " 'bid_price_far_price_diff',\n",
       " 'bid_price_far_price_ratio',\n",
       " 'bid_price_near_price_diff',\n",
       " 'bid_price_near_price_ratio',\n",
       " 'far_price_near_price_diff',\n",
       " 'far_price_near_price_ratio',\n",
       " 'price_mean',\n",
       " 'price_std',\n",
       " 'time_of_day']"
      ]
     },
     "execution_count": 9,
     "metadata": {},
     "output_type": "execute_result"
    }
   ],
   "source": [
    "def create_features(data):\n",
    "    # Imbalance features\n",
    "    data['bid_ask_size_imbalance'] = data['bid_size'] - data['ask_size']\n",
    "    data['matched_imbalance_ratio'] = (data['imbalance_size'] - data['matched_size']) / (data['matched_size'] + data['imbalance_size'])\n",
    "\n",
    "    # Price differences and ratios\n",
    "    price_cols = ['ask_price', 'bid_price', 'far_price', 'near_price']\n",
    "    for i in range(len(price_cols)):\n",
    "        for j in range(i + 1, len(price_cols)):\n",
    "            col1, col2 = price_cols[i], price_cols[j]\n",
    "            data[f'{col1}_{col2}_diff'] = data[col1] - data[col2]\n",
    "            data[f'{col1}_{col2}_ratio'] = data[col1] / data[col2]\n",
    "\n",
    "    # Statistical features\n",
    "    data['price_mean'] = data['wap'].rolling(window=10).mean()\n",
    "    data['price_std'] = data['wap'].rolling(window=10).std()\n",
    "\n",
    "    # Time-based features\n",
    "    data['time_of_day'] = data['seconds_in_bucket'] // 60  # Convert seconds to minutes\n",
    "\n",
    "    return data\n",
    "\n",
    "# Apply the feature engineering to your datasets\n",
    "train = create_features(train)\n",
    "test = create_features(test)\n",
    "\n",
    "list(train)"
   ]
  },
  {
   "cell_type": "code",
   "execution_count": 10,
   "metadata": {},
   "outputs": [],
   "source": [
    "# Replace infinite values with NaN\n",
    "train.replace([np.inf, -np.inf], np.nan, inplace=True)\n",
    "test.replace([np.inf, -np.inf], np.nan, inplace=True)\n",
    "\n",
    "# Impute missing values (if not already done)\n",
    "for column in train.columns:\n",
    "    train[column].fillna(train[column].median(), inplace=True)\n",
    "for column in test.columns:\n",
    "    test[column].fillna(test[column].median(), inplace=True)"
   ]
  },
  {
   "cell_type": "code",
   "execution_count": 11,
   "metadata": {},
   "outputs": [],
   "source": [
    "# Define the number of splits for TimeSeriesSplit\n",
    "n_splits = 5\n",
    "tss = TimeSeriesSplit(n_splits=n_splits)"
   ]
  },
  {
   "cell_type": "code",
   "execution_count": 12,
   "metadata": {},
   "outputs": [],
   "source": [
    "# Define your feature engineering transformer\n",
    "FeatureEngineering = FunctionTransformer(create_features)\n",
    "\n",
    "# Initialize the CatBoost Regressor\n",
    "catboost_model = CatBoostRegressor(\n",
    "    task_type='CPU',  # remove if not using GPU\n",
    "    verbose=False,\n",
    "    random_state=42  # for reproducibility\n",
    ")\n",
    "\n",
    "# Create a pipeline\n",
    "pipeline = Pipeline([\n",
    "    ('feature_engineering', FeatureEngineering),\n",
    "    ('regressor', catboost_model)\n",
    "])"
   ]
  },
  {
   "cell_type": "code",
   "execution_count": 13,
   "metadata": {},
   "outputs": [
    {
     "name": "stdout",
     "output_type": "stream",
     "text": [
      "Average Training MAE: 6.0338256714286\n",
      "Average Validation MAE: 6.674814160842667\n"
     ]
    }
   ],
   "source": [
    "X = train[['stock_id', 'seconds_in_bucket', 'imbalance_size', 'imbalance_buy_sell_flag', 'reference_price', 'matched_size', 'far_price', 'near_price', 'bid_price', 'bid_size', 'ask_price', 'ask_size', 'wap', 'bid_ask_size_imbalance', 'matched_imbalance_ratio', 'ask_price_bid_price_diff', 'ask_price_bid_price_ratio', 'ask_price_far_price_diff', 'ask_price_far_price_ratio', 'ask_price_near_price_diff', 'ask_price_near_price_ratio', 'bid_price_far_price_diff', 'bid_price_far_price_ratio', 'bid_price_near_price_diff', 'bid_price_near_price_ratio', 'far_price_near_price_diff', 'far_price_near_price_ratio', 'price_mean', 'price_std', 'time_of_day']]\n",
    "y = train['target']\n",
    "\n",
    "\n",
    "# Proceed with TimeSeriesSplit and model training\n",
    "from sklearn.model_selection import TimeSeriesSplit\n",
    "from sklearn.metrics import mean_absolute_error\n",
    "import numpy as np\n",
    "\n",
    "# Define TimeSeriesSplit\n",
    "tss = TimeSeriesSplit(n_splits=5)\n",
    "validation_scores = []\n",
    "training_scores = []\n",
    "\n",
    "for train_index, val_index in tss.split(X):\n",
    "    X_train, X_val = X.iloc[train_index], X.iloc[val_index]\n",
    "    y_train, y_val = y[train_index], y[val_index]\n",
    "\n",
    "    pipeline.fit(X_train, y_train)\n",
    "    val_predictions = pipeline.predict(X_val)\n",
    "    train_predictions = pipeline.predict(X_train)\n",
    "\n",
    "    val_score = mean_absolute_error(y_val, val_predictions)\n",
    "    train_score = mean_absolute_error(y_train, train_predictions)\n",
    "\n",
    "    validation_scores.append(val_score)\n",
    "    training_scores.append(train_score)\n",
    "\n",
    "# Calculate and print average scores\n",
    "avg_val_score = np.mean(validation_scores)\n",
    "avg_train_score = np.mean(training_scores)\n",
    "\n",
    "print(f\"Average Training MAE: {avg_train_score}\")\n",
    "print(f\"Average Validation MAE: {avg_val_score}\")\n",
    "\n",
    "# Train the final model on the entire dataset\n",
    "final_model = pipeline.fit(X, y)"
   ]
  },
  {
   "cell_type": "markdown",
   "metadata": {},
   "source": []
  }
 ],
 "metadata": {
  "kernelspec": {
   "display_name": "Python 3",
   "language": "python",
   "name": "python3"
  },
  "language_info": {
   "codemirror_mode": {
    "name": "ipython",
    "version": 3
   },
   "file_extension": ".py",
   "mimetype": "text/x-python",
   "name": "python",
   "nbconvert_exporter": "python",
   "pygments_lexer": "ipython3",
   "version": "3.11.2"
  }
 },
 "nbformat": 4,
 "nbformat_minor": 2
}
