{
 "cells": [
  {
   "cell_type": "markdown",
   "metadata": {},
   "source": [
    "### Importing the libraries"
   ]
  },
  {
   "cell_type": "code",
   "execution_count": 25,
   "metadata": {},
   "outputs": [],
   "source": [
    "import numpy as np\n",
    "import pandas as pd\n",
    "import matplotlib.pyplot as plt\n",
    "import gc\n",
    "import joblib\n",
    "\n",
    "import seaborn as sns\n",
    "from sklearn import set_config\n",
    "from sklearn.preprocessing import FunctionTransformer\n",
    "from sklearn.pipeline import Pipeline\n",
    "from sklearn.model_selection import TimeSeriesSplit\n",
    "from sklearn.metrics import mean_absolute_error\n",
    "from catboost import CatBoostRegressor\n"
   ]
  },
  {
   "cell_type": "markdown",
   "metadata": {},
   "source": [
    "Set visualization style"
   ]
  },
  {
   "cell_type": "code",
   "execution_count": 2,
   "metadata": {},
   "outputs": [],
   "source": [
    "sns.set_theme(style='white', palette='viridis')"
   ]
  },
  {
   "cell_type": "markdown",
   "metadata": {},
   "source": [
    "Set pandas display options"
   ]
  },
  {
   "cell_type": "code",
   "execution_count": 3,
   "metadata": {},
   "outputs": [],
   "source": [
    "pd.set_option('display.max_rows', 100)\n",
    "set_config(transform_output='pandas')\n",
    "pd.options.mode.chained_assignment = None"
   ]
  },
  {
   "cell_type": "markdown",
   "metadata": {},
   "source": [
    "Change data type for memory optimization"
   ]
  },
  {
   "cell_type": "code",
   "execution_count": 4,
   "metadata": {},
   "outputs": [],
   "source": [
    "dtypes = {\n",
    "    'stock_id': np.uint8,\n",
    "    'date_id': np.uint16,\n",
    "    'seconds_in_bucket': np.uint16,\n",
    "    'imbalance_buy_sell_flag': np.int8,\n",
    "    'time_id': np.uint16,\n",
    "}"
   ]
  },
  {
   "cell_type": "markdown",
   "metadata": {},
   "source": [
    "### Downloading the data   "
   ]
  },
  {
   "cell_type": "code",
   "execution_count": 47,
   "metadata": {},
   "outputs": [
    {
     "data": {
      "text/plain": [
       "517"
      ]
     },
     "execution_count": 47,
     "metadata": {},
     "output_type": "execute_result"
    }
   ],
   "source": [
    "train = pd.read_csv('train.csv', dtype=dtypes).drop(['row_id', 'time_id'], axis=1)\n",
    "test = pd.read_csv('example_test_files/test.csv', dtype=dtypes).drop(['row_id', 'time_id'], axis=1)\n",
    "train.shape\n",
    "\n",
    "# Memory cleanup\n",
    "gc.collect()"
   ]
  },
  {
   "cell_type": "markdown",
   "metadata": {},
   "source": [
    "## Handling missing data"
   ]
  },
  {
   "cell_type": "code",
   "execution_count": 11,
   "metadata": {},
   "outputs": [
    {
     "name": "stdout",
     "output_type": "stream",
     "text": [
      "\n",
      "Percentage of Missing Values in Each Column:\n",
      " stock_id                    0.000000\n",
      "date_id                     0.000000\n",
      "seconds_in_bucket           0.000000\n",
      "imbalance_size              0.004200\n",
      "imbalance_buy_sell_flag     0.000000\n",
      "reference_price             0.004200\n",
      "matched_size                0.004200\n",
      "far_price                  55.256836\n",
      "near_price                 54.547364\n",
      "bid_price                   0.004200\n",
      "bid_size                    0.000000\n",
      "ask_price                   0.004200\n",
      "ask_size                    0.000000\n",
      "wap                         0.004200\n",
      "target                      0.001680\n",
      "dtype: float64\n"
     ]
    }
   ],
   "source": [
    "missing_values = train.isnull().sum()\n",
    "missing_percentage = (missing_values / len(train)) * 100\n",
    "print(\"\\nPercentage of Missing Values in Each Column:\\n\", missing_percentage)"
   ]
  },
  {
   "cell_type": "markdown",
   "metadata": {},
   "source": [
    "Handling missing values using median imputation"
   ]
  },
  {
   "cell_type": "code",
   "execution_count": 12,
   "metadata": {},
   "outputs": [],
   "source": [
    "for column in train.columns:\n",
    "    if train[column].isnull().any():\n",
    "        train[column].fillna(train[column].median(), inplace=True)"
   ]
  },
  {
   "cell_type": "markdown",
   "metadata": {},
   "source": [
    "Same for test set"
   ]
  },
  {
   "cell_type": "code",
   "execution_count": 42,
   "metadata": {},
   "outputs": [
    {
     "name": "stdout",
     "output_type": "stream",
     "text": [
      "\n",
      "Percentage of Missing Values in Each Column:\n",
      " stock_id                    0.000000\n",
      "date_id                     0.000000\n",
      "seconds_in_bucket           0.000000\n",
      "imbalance_size              0.000000\n",
      "imbalance_buy_sell_flag     0.000000\n",
      "reference_price             0.000000\n",
      "matched_size                0.000000\n",
      "far_price                  55.239394\n",
      "near_price                 54.545455\n",
      "bid_price                   0.000000\n",
      "bid_size                    0.000000\n",
      "ask_price                   0.000000\n",
      "ask_size                    0.000000\n",
      "wap                         0.000000\n",
      "dtype: float64\n"
     ]
    }
   ],
   "source": [
    "missing_values = test.isnull().sum()\n",
    "missing_percentage = (missing_values / len(test)) * 100\n",
    "print(\"\\nPercentage of Missing Values in Each Column:\\n\", missing_percentage)\n",
    "\n",
    "for column in test.columns:\n",
    "    if test[column].isnull().any():\n",
    "        test[column].fillna(test[column].median(), inplace=True)"
   ]
  },
  {
   "cell_type": "code",
   "execution_count": 35,
   "metadata": {},
   "outputs": [],
   "source": [
    "def nan_handler(data):\n",
    "    data_copy = data.copy()\n",
    "    # Replace infinite values with NaN\n",
    "    data_copy.replace([np.inf, -np.inf], np.nan, inplace=True)\n",
    "    for column in data_copy.columns:\n",
    "        if data_copy[column].isnull().any():\n",
    "            data_copy[column].fillna(data_copy[column].median(), inplace=True)\n",
    "    return data_copy"
   ]
  },
  {
   "cell_type": "markdown",
   "metadata": {},
   "source": [
    "### Feature engineering"
   ]
  },
  {
   "cell_type": "code",
   "execution_count": 14,
   "metadata": {},
   "outputs": [
    {
     "data": {
      "text/plain": [
       "['stock_id',\n",
       " 'date_id',\n",
       " 'seconds_in_bucket',\n",
       " 'imbalance_size',\n",
       " 'imbalance_buy_sell_flag',\n",
       " 'reference_price',\n",
       " 'matched_size',\n",
       " 'far_price',\n",
       " 'near_price',\n",
       " 'bid_price',\n",
       " 'bid_size',\n",
       " 'ask_price',\n",
       " 'ask_size',\n",
       " 'wap',\n",
       " 'target',\n",
       " 'bid_ask_size_imbalance',\n",
       " 'matched_imbalance_ratio',\n",
       " 'ask_price_bid_price_diff',\n",
       " 'ask_price_bid_price_ratio',\n",
       " 'ask_price_far_price_diff',\n",
       " 'ask_price_far_price_ratio',\n",
       " 'ask_price_near_price_diff',\n",
       " 'ask_price_near_price_ratio',\n",
       " 'bid_price_far_price_diff',\n",
       " 'bid_price_far_price_ratio',\n",
       " 'bid_price_near_price_diff',\n",
       " 'bid_price_near_price_ratio',\n",
       " 'far_price_near_price_diff',\n",
       " 'far_price_near_price_ratio',\n",
       " 'price_mean',\n",
       " 'price_std',\n",
       " 'time_of_day']"
      ]
     },
     "execution_count": 14,
     "metadata": {},
     "output_type": "execute_result"
    }
   ],
   "source": [
    "def create_features(data):\n",
    "    # Imbalance features\n",
    "    data['bid_ask_size_imbalance'] = data['bid_size'] - data['ask_size']\n",
    "    data['matched_imbalance_ratio'] = (data['imbalance_size'] - data['matched_size']) / (data['matched_size'] + data['imbalance_size'])\n",
    "\n",
    "    # Price differences and ratios\n",
    "    price_cols = ['ask_price', 'bid_price', 'far_price', 'near_price']\n",
    "    for i in range(len(price_cols)):\n",
    "        for j in range(i + 1, len(price_cols)):\n",
    "            col1, col2 = price_cols[i], price_cols[j]\n",
    "            data[f'{col1}_{col2}_diff'] = data[col1] - data[col2]\n",
    "            data[f'{col1}_{col2}_ratio'] = data[col1] / data[col2]\n",
    "\n",
    "    # Statistical features\n",
    "    data['price_mean'] = data['wap'].rolling(window=10).mean()\n",
    "    data['price_std'] = data['wap'].rolling(window=10).std()\n",
    "\n",
    "    # Time-based features\n",
    "    data['time_of_day'] = data['seconds_in_bucket'] // 60  # Convert seconds to minutes\n",
    "\n",
    "    return data\n",
    "\n",
    "# Apply the feature engineering to your datasets\n",
    "train = create_features(train)\n",
    "test = create_features(test)\n",
    "\n",
    "list(train)"
   ]
  },
  {
   "cell_type": "code",
   "execution_count": 43,
   "metadata": {},
   "outputs": [],
   "source": [
    "# Replace infinite values with NaN\n",
    "train.replace([np.inf, -np.inf], np.nan, inplace=True)\n",
    "test.replace([np.inf, -np.inf], np.nan, inplace=True)\n",
    "\n",
    "# Impute missing values (if not already done)\n",
    "for column in train.columns:\n",
    "    train[column].fillna(train[column].median(), inplace=True)\n",
    "for column in test.columns:\n",
    "    test[column].fillna(test[column].median(), inplace=True)"
   ]
  },
  {
   "cell_type": "code",
   "execution_count": 16,
   "metadata": {},
   "outputs": [],
   "source": [
    "# Define the number of splits for TimeSeriesSplit\n",
    "n_splits = 5\n",
    "tss = TimeSeriesSplit(n_splits=n_splits)"
   ]
  },
  {
   "cell_type": "code",
   "execution_count": 38,
   "metadata": {},
   "outputs": [],
   "source": [
    "# Define your feature engineering transformer\n",
    "FeatureEngineering = FunctionTransformer(create_features)\n",
    "Feature_cleaning = FunctionTransformer(nan_handler)\n",
    "\n",
    "# Initialize the CatBoost Regressor\n",
    "catboost_model = CatBoostRegressor(\n",
    "    task_type='CPU',  # remove if not using GPU\n",
    "    verbose=False,\n",
    "    random_state=42  # for reproducibility\n",
    ")\n",
    "\n",
    "# Create a pipeline\n",
    "pipeline = Pipeline([\n",
    "    ('feature_engineering', FeatureEngineering),\n",
    "    ('regressor', catboost_model)\n",
    "])"
   ]
  },
  {
   "cell_type": "code",
   "execution_count": 37,
   "metadata": {},
   "outputs": [
    {
     "ename": "KeyError",
     "evalue": "\"['bid_ask_size_imbalance', 'matched_imbalance_ratio', 'ask_price_bid_price_diff', 'ask_price_bid_price_ratio', 'ask_price_far_price_diff', 'ask_price_far_price_ratio', 'ask_price_near_price_diff', 'ask_price_near_price_ratio', 'bid_price_far_price_diff', 'bid_price_far_price_ratio', 'bid_price_near_price_diff', 'bid_price_near_price_ratio', 'far_price_near_price_diff', 'far_price_near_price_ratio', 'price_mean', 'price_std', 'time_of_day'] not in index\"",
     "output_type": "error",
     "traceback": [
      "\u001b[0;31m---------------------------------------------------------------------------\u001b[0m",
      "\u001b[0;31mKeyError\u001b[0m                                  Traceback (most recent call last)",
      "\u001b[1;32m/home/hugefelix/HEC/kaggle_challenge/optiver-trading-at-the-close/Optiver.ipynb Cell 24\u001b[0m line \u001b[0;36m1\n\u001b[0;32m----> <a href='vscode-notebook-cell://wsl%2Bubuntu/home/hugefelix/HEC/kaggle_challenge/optiver-trading-at-the-close/Optiver.ipynb#X30sdnNjb2RlLXJlbW90ZQ%3D%3D?line=0'>1</a>\u001b[0m X \u001b[39m=\u001b[39m train[[\u001b[39m'\u001b[39m\u001b[39mstock_id\u001b[39m\u001b[39m'\u001b[39m, \u001b[39m'\u001b[39m\u001b[39mseconds_in_bucket\u001b[39m\u001b[39m'\u001b[39m, \u001b[39m'\u001b[39m\u001b[39mimbalance_size\u001b[39m\u001b[39m'\u001b[39m, \u001b[39m'\u001b[39m\u001b[39mimbalance_buy_sell_flag\u001b[39m\u001b[39m'\u001b[39m, \u001b[39m'\u001b[39m\u001b[39mreference_price\u001b[39m\u001b[39m'\u001b[39m, \u001b[39m'\u001b[39m\u001b[39mmatched_size\u001b[39m\u001b[39m'\u001b[39m, \u001b[39m'\u001b[39m\u001b[39mfar_price\u001b[39m\u001b[39m'\u001b[39m, \u001b[39m'\u001b[39m\u001b[39mnear_price\u001b[39m\u001b[39m'\u001b[39m, \u001b[39m'\u001b[39m\u001b[39mbid_price\u001b[39m\u001b[39m'\u001b[39m, \u001b[39m'\u001b[39m\u001b[39mbid_size\u001b[39m\u001b[39m'\u001b[39m, \u001b[39m'\u001b[39m\u001b[39mask_price\u001b[39m\u001b[39m'\u001b[39m, \u001b[39m'\u001b[39m\u001b[39mask_size\u001b[39m\u001b[39m'\u001b[39m, \u001b[39m'\u001b[39m\u001b[39mwap\u001b[39m\u001b[39m'\u001b[39m, \u001b[39m'\u001b[39m\u001b[39mbid_ask_size_imbalance\u001b[39m\u001b[39m'\u001b[39m, \u001b[39m'\u001b[39m\u001b[39mmatched_imbalance_ratio\u001b[39m\u001b[39m'\u001b[39m, \u001b[39m'\u001b[39m\u001b[39mask_price_bid_price_diff\u001b[39m\u001b[39m'\u001b[39m, \u001b[39m'\u001b[39m\u001b[39mask_price_bid_price_ratio\u001b[39m\u001b[39m'\u001b[39m, \u001b[39m'\u001b[39m\u001b[39mask_price_far_price_diff\u001b[39m\u001b[39m'\u001b[39m, \u001b[39m'\u001b[39m\u001b[39mask_price_far_price_ratio\u001b[39m\u001b[39m'\u001b[39m, \u001b[39m'\u001b[39m\u001b[39mask_price_near_price_diff\u001b[39m\u001b[39m'\u001b[39m, \u001b[39m'\u001b[39m\u001b[39mask_price_near_price_ratio\u001b[39m\u001b[39m'\u001b[39m, \u001b[39m'\u001b[39m\u001b[39mbid_price_far_price_diff\u001b[39m\u001b[39m'\u001b[39m, \u001b[39m'\u001b[39m\u001b[39mbid_price_far_price_ratio\u001b[39m\u001b[39m'\u001b[39m, \u001b[39m'\u001b[39m\u001b[39mbid_price_near_price_diff\u001b[39m\u001b[39m'\u001b[39m, \u001b[39m'\u001b[39m\u001b[39mbid_price_near_price_ratio\u001b[39m\u001b[39m'\u001b[39m, \u001b[39m'\u001b[39m\u001b[39mfar_price_near_price_diff\u001b[39m\u001b[39m'\u001b[39m, \u001b[39m'\u001b[39m\u001b[39mfar_price_near_price_ratio\u001b[39m\u001b[39m'\u001b[39m, \u001b[39m'\u001b[39m\u001b[39mprice_mean\u001b[39m\u001b[39m'\u001b[39m, \u001b[39m'\u001b[39m\u001b[39mprice_std\u001b[39m\u001b[39m'\u001b[39m, \u001b[39m'\u001b[39m\u001b[39mtime_of_day\u001b[39m\u001b[39m'\u001b[39m]]\n\u001b[1;32m      <a href='vscode-notebook-cell://wsl%2Bubuntu/home/hugefelix/HEC/kaggle_challenge/optiver-trading-at-the-close/Optiver.ipynb#X30sdnNjb2RlLXJlbW90ZQ%3D%3D?line=1'>2</a>\u001b[0m y \u001b[39m=\u001b[39m train[\u001b[39m'\u001b[39m\u001b[39mtarget\u001b[39m\u001b[39m'\u001b[39m]\n\u001b[1;32m      <a href='vscode-notebook-cell://wsl%2Bubuntu/home/hugefelix/HEC/kaggle_challenge/optiver-trading-at-the-close/Optiver.ipynb#X30sdnNjb2RlLXJlbW90ZQ%3D%3D?line=4'>5</a>\u001b[0m \u001b[39m# Proceed with TimeSeriesSplit and model training\u001b[39;00m\n",
      "File \u001b[0;32m~/miniconda3/envs/llm_felix_1/lib/python3.11/site-packages/pandas/core/frame.py:3902\u001b[0m, in \u001b[0;36mDataFrame.__getitem__\u001b[0;34m(self, key)\u001b[0m\n\u001b[1;32m   3900\u001b[0m     \u001b[39mif\u001b[39;00m is_iterator(key):\n\u001b[1;32m   3901\u001b[0m         key \u001b[39m=\u001b[39m \u001b[39mlist\u001b[39m(key)\n\u001b[0;32m-> 3902\u001b[0m     indexer \u001b[39m=\u001b[39m \u001b[39mself\u001b[39m\u001b[39m.\u001b[39mcolumns\u001b[39m.\u001b[39m_get_indexer_strict(key, \u001b[39m\"\u001b[39m\u001b[39mcolumns\u001b[39m\u001b[39m\"\u001b[39m)[\u001b[39m1\u001b[39m]\n\u001b[1;32m   3904\u001b[0m \u001b[39m# take() does not accept boolean indexers\u001b[39;00m\n\u001b[1;32m   3905\u001b[0m \u001b[39mif\u001b[39;00m \u001b[39mgetattr\u001b[39m(indexer, \u001b[39m\"\u001b[39m\u001b[39mdtype\u001b[39m\u001b[39m\"\u001b[39m, \u001b[39mNone\u001b[39;00m) \u001b[39m==\u001b[39m \u001b[39mbool\u001b[39m:\n",
      "File \u001b[0;32m~/miniconda3/envs/llm_felix_1/lib/python3.11/site-packages/pandas/core/indexes/base.py:6114\u001b[0m, in \u001b[0;36mIndex._get_indexer_strict\u001b[0;34m(self, key, axis_name)\u001b[0m\n\u001b[1;32m   6111\u001b[0m \u001b[39melse\u001b[39;00m:\n\u001b[1;32m   6112\u001b[0m     keyarr, indexer, new_indexer \u001b[39m=\u001b[39m \u001b[39mself\u001b[39m\u001b[39m.\u001b[39m_reindex_non_unique(keyarr)\n\u001b[0;32m-> 6114\u001b[0m \u001b[39mself\u001b[39m\u001b[39m.\u001b[39m_raise_if_missing(keyarr, indexer, axis_name)\n\u001b[1;32m   6116\u001b[0m keyarr \u001b[39m=\u001b[39m \u001b[39mself\u001b[39m\u001b[39m.\u001b[39mtake(indexer)\n\u001b[1;32m   6117\u001b[0m \u001b[39mif\u001b[39;00m \u001b[39misinstance\u001b[39m(key, Index):\n\u001b[1;32m   6118\u001b[0m     \u001b[39m# GH 42790 - Preserve name from an Index\u001b[39;00m\n",
      "File \u001b[0;32m~/miniconda3/envs/llm_felix_1/lib/python3.11/site-packages/pandas/core/indexes/base.py:6178\u001b[0m, in \u001b[0;36mIndex._raise_if_missing\u001b[0;34m(self, key, indexer, axis_name)\u001b[0m\n\u001b[1;32m   6175\u001b[0m     \u001b[39mraise\u001b[39;00m \u001b[39mKeyError\u001b[39;00m(\u001b[39mf\u001b[39m\u001b[39m\"\u001b[39m\u001b[39mNone of [\u001b[39m\u001b[39m{\u001b[39;00mkey\u001b[39m}\u001b[39;00m\u001b[39m] are in the [\u001b[39m\u001b[39m{\u001b[39;00maxis_name\u001b[39m}\u001b[39;00m\u001b[39m]\u001b[39m\u001b[39m\"\u001b[39m)\n\u001b[1;32m   6177\u001b[0m not_found \u001b[39m=\u001b[39m \u001b[39mlist\u001b[39m(ensure_index(key)[missing_mask\u001b[39m.\u001b[39mnonzero()[\u001b[39m0\u001b[39m]]\u001b[39m.\u001b[39munique())\n\u001b[0;32m-> 6178\u001b[0m \u001b[39mraise\u001b[39;00m \u001b[39mKeyError\u001b[39;00m(\u001b[39mf\u001b[39m\u001b[39m\"\u001b[39m\u001b[39m{\u001b[39;00mnot_found\u001b[39m}\u001b[39;00m\u001b[39m not in index\u001b[39m\u001b[39m\"\u001b[39m)\n",
      "\u001b[0;31mKeyError\u001b[0m: \"['bid_ask_size_imbalance', 'matched_imbalance_ratio', 'ask_price_bid_price_diff', 'ask_price_bid_price_ratio', 'ask_price_far_price_diff', 'ask_price_far_price_ratio', 'ask_price_near_price_diff', 'ask_price_near_price_ratio', 'bid_price_far_price_diff', 'bid_price_far_price_ratio', 'bid_price_near_price_diff', 'bid_price_near_price_ratio', 'far_price_near_price_diff', 'far_price_near_price_ratio', 'price_mean', 'price_std', 'time_of_day'] not in index\""
     ]
    }
   ],
   "source": [
    "\n",
    "\n",
    "X = train[['stock_id', 'seconds_in_bucket', 'imbalance_size', 'imbalance_buy_sell_flag', 'reference_price', 'matched_size', 'far_price', 'near_price', 'bid_price', 'bid_size', 'ask_price', 'ask_size', 'wap', 'bid_ask_size_imbalance', 'matched_imbalance_ratio', 'ask_price_bid_price_diff', 'ask_price_bid_price_ratio', 'ask_price_far_price_diff', 'ask_price_far_price_ratio', 'ask_price_near_price_diff', 'ask_price_near_price_ratio', 'bid_price_far_price_diff', 'bid_price_far_price_ratio', 'bid_price_near_price_diff', 'bid_price_near_price_ratio', 'far_price_near_price_diff', 'far_price_near_price_ratio', 'price_mean', 'price_std', 'time_of_day']]\n",
    "y = train['target']\n",
    "\n",
    "\n",
    "# Proceed with TimeSeriesSplit and model training\n",
    "from sklearn.model_selection import TimeSeriesSplit\n",
    "from sklearn.metrics import mean_absolute_error\n",
    "import numpy as np\n",
    "\n",
    "# Define TimeSeriesSplit\n",
    "tss = TimeSeriesSplit(n_splits=5)\n",
    "validation_scores = []\n",
    "training_scores = []\n",
    "\n",
    "for train_index, val_index in tss.split(X):\n",
    "    X_train, X_val = X.iloc[train_index], X.iloc[val_index]\n",
    "    y_train, y_val = y[train_index], y[val_index]\n",
    "\n",
    "    pipeline.fit(X_train, y_train)\n",
    "    val_predictions = pipeline.predict(X_val)\n",
    "    train_predictions = pipeline.predict(X_train)\n",
    "\n",
    "    val_score = mean_absolute_error(y_val, val_predictions)\n",
    "    train_score = mean_absolute_error(y_train, train_predictions)\n",
    "\n",
    "    validation_scores.append(val_score)\n",
    "    training_scores.append(train_score)\n",
    "\n",
    "# Calculate and print average scores\n",
    "avg_val_score = np.mean(validation_scores)\n",
    "avg_train_score = np.mean(training_scores)\n",
    "\n",
    "print(f\"Average Training MAE: {avg_train_score}\")\n",
    "print(f\"Average Validation MAE: {avg_val_score}\")\n",
    "\n",
    "# Train the final model on the entire dataset\n",
    "final_model = pipeline.fit(X, y)"
   ]
  },
  {
   "cell_type": "markdown",
   "metadata": {},
   "source": [
    "Concatenate with data cleaning "
   ]
  },
  {
   "cell_type": "code",
   "execution_count": 39,
   "metadata": {},
   "outputs": [],
   "source": [
    "final_model_to_save = Pipeline([\n",
    "    ('nan_handling', Feature_cleaning),\n",
    "    ('trained_model', final_model)\n",
    "\n",
    "])"
   ]
  },
  {
   "cell_type": "code",
   "execution_count": 41,
   "metadata": {},
   "outputs": [
    {
     "data": {
      "text/plain": [
       "array([-2.37462619, -0.38397499,  2.40504068, ...,  0.34452756,\n",
       "        1.66055261, -1.70658602])"
      ]
     },
     "execution_count": 41,
     "metadata": {},
     "output_type": "execute_result"
    }
   ],
   "source": [
    "final_model_to_save.predict(test)"
   ]
  },
  {
   "cell_type": "markdown",
   "metadata": {},
   "source": [
    "SAVE THE PRE TRAINED PIPELINE"
   ]
  },
  {
   "cell_type": "code",
   "execution_count": 46,
   "metadata": {},
   "outputs": [
    {
     "data": {
      "text/plain": [
       "['trained_pipeline.pkl']"
      ]
     },
     "execution_count": 46,
     "metadata": {},
     "output_type": "execute_result"
    }
   ],
   "source": [
    "joblib.dump(final_model_to_save, 'trained_pipeline.pkl')\n"
   ]
  },
  {
   "cell_type": "code",
   "execution_count": 48,
   "metadata": {},
   "outputs": [],
   "source": [
    "loaded_model = joblib.load('trained_pipeline.pkl')\n"
   ]
  },
  {
   "cell_type": "markdown",
   "metadata": {},
   "source": [
    "LOAD THE PRE TRAINED MODEL"
   ]
  },
  {
   "cell_type": "code",
   "execution_count": 49,
   "metadata": {},
   "outputs": [
    {
     "data": {
      "text/plain": [
       "array([-2.37462619, -0.38397499,  2.40504068, ...,  0.34452756,\n",
       "        1.66055261, -1.70658602])"
      ]
     },
     "execution_count": 49,
     "metadata": {},
     "output_type": "execute_result"
    }
   ],
   "source": [
    "loaded_model.predict(test)"
   ]
  },
  {
   "cell_type": "code",
   "execution_count": null,
   "metadata": {},
   "outputs": [],
   "source": []
  }
 ],
 "metadata": {
  "kernelspec": {
   "display_name": "Python 3",
   "language": "python",
   "name": "python3"
  },
  "language_info": {
   "codemirror_mode": {
    "name": "ipython",
    "version": 3
   },
   "file_extension": ".py",
   "mimetype": "text/x-python",
   "name": "python",
   "nbconvert_exporter": "python",
   "pygments_lexer": "ipython3",
   "version": "3.11.5"
  }
 },
 "nbformat": 4,
 "nbformat_minor": 2
}
