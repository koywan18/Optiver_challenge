{
 "cells": [
  {
   "cell_type": "code",
   "execution_count": 1,
   "metadata": {},
   "outputs": [
    {
     "ename": "ModuleNotFoundError",
     "evalue": "No module named 'plotly'",
     "output_type": "error",
     "traceback": [
      "\u001b[0;31m---------------------------------------------------------------------------\u001b[0m",
      "\u001b[0;31mModuleNotFoundError\u001b[0m                       Traceback (most recent call last)",
      "\u001b[1;32m/home/hugefelix/HEC/kaggle_challenge/optiver-trading-at-the-close/defrichage.ipynb Cell 1\u001b[0m line \u001b[0;36m4\n\u001b[1;32m      <a href='vscode-notebook-cell://wsl%2Bubuntu/home/hugefelix/HEC/kaggle_challenge/optiver-trading-at-the-close/defrichage.ipynb#W0sdnNjb2RlLXJlbW90ZQ%3D%3D?line=1'>2</a>\u001b[0m \u001b[39mimport\u001b[39;00m \u001b[39mnumpy\u001b[39;00m \u001b[39mas\u001b[39;00m \u001b[39mnp\u001b[39;00m\n\u001b[1;32m      <a href='vscode-notebook-cell://wsl%2Bubuntu/home/hugefelix/HEC/kaggle_challenge/optiver-trading-at-the-close/defrichage.ipynb#W0sdnNjb2RlLXJlbW90ZQ%3D%3D?line=2'>3</a>\u001b[0m \u001b[39mimport\u001b[39;00m \u001b[39mtorch\u001b[39;00m\n\u001b[0;32m----> <a href='vscode-notebook-cell://wsl%2Bubuntu/home/hugefelix/HEC/kaggle_challenge/optiver-trading-at-the-close/defrichage.ipynb#W0sdnNjb2RlLXJlbW90ZQ%3D%3D?line=3'>4</a>\u001b[0m \u001b[39mimport\u001b[39;00m \u001b[39mplotly\u001b[39;00m \u001b[39mas\u001b[39;00m \u001b[39mplt\u001b[39;00m\n\u001b[1;32m      <a href='vscode-notebook-cell://wsl%2Bubuntu/home/hugefelix/HEC/kaggle_challenge/optiver-trading-at-the-close/defrichage.ipynb#W0sdnNjb2RlLXJlbW90ZQ%3D%3D?line=4'>5</a>\u001b[0m \u001b[39mimport\u001b[39;00m \u001b[39mplotly\u001b[39;00m\u001b[39m.\u001b[39;00m\u001b[39mexpress\u001b[39;00m \u001b[39mas\u001b[39;00m \u001b[39mpx\u001b[39;00m\n",
      "\u001b[0;31mModuleNotFoundError\u001b[0m: No module named 'plotly'"
     ]
    }
   ],
   "source": [
    "import pandas as pd\n",
    "import numpy as np\n",
    "import torch\n",
    "import plotly as plt\n",
    "import plotly.express as px\n"
   ]
  },
  {
   "cell_type": "code",
   "execution_count": 4,
   "metadata": {},
   "outputs": [],
   "source": [
    "train_csv = pd.read_csv('train.csv')"
   ]
  },
  {
   "cell_type": "code",
   "execution_count": 5,
   "metadata": {},
   "outputs": [
    {
     "data": {
      "text/html": [
       "<div>\n",
       "<style scoped>\n",
       "    .dataframe tbody tr th:only-of-type {\n",
       "        vertical-align: middle;\n",
       "    }\n",
       "\n",
       "    .dataframe tbody tr th {\n",
       "        vertical-align: top;\n",
       "    }\n",
       "\n",
       "    .dataframe thead th {\n",
       "        text-align: right;\n",
       "    }\n",
       "</style>\n",
       "<table border=\"1\" class=\"dataframe\">\n",
       "  <thead>\n",
       "    <tr style=\"text-align: right;\">\n",
       "      <th></th>\n",
       "      <th>stock_id</th>\n",
       "      <th>date_id</th>\n",
       "      <th>seconds_in_bucket</th>\n",
       "      <th>imbalance_size</th>\n",
       "      <th>imbalance_buy_sell_flag</th>\n",
       "      <th>reference_price</th>\n",
       "      <th>matched_size</th>\n",
       "      <th>far_price</th>\n",
       "      <th>near_price</th>\n",
       "      <th>bid_price</th>\n",
       "      <th>bid_size</th>\n",
       "      <th>ask_price</th>\n",
       "      <th>ask_size</th>\n",
       "      <th>wap</th>\n",
       "      <th>target</th>\n",
       "      <th>time_id</th>\n",
       "      <th>row_id</th>\n",
       "    </tr>\n",
       "  </thead>\n",
       "  <tbody>\n",
       "    <tr>\n",
       "      <th>0</th>\n",
       "      <td>0</td>\n",
       "      <td>0</td>\n",
       "      <td>0</td>\n",
       "      <td>3180602.69</td>\n",
       "      <td>1</td>\n",
       "      <td>0.999812</td>\n",
       "      <td>13380276.64</td>\n",
       "      <td>NaN</td>\n",
       "      <td>NaN</td>\n",
       "      <td>0.999812</td>\n",
       "      <td>60651.50</td>\n",
       "      <td>1.000026</td>\n",
       "      <td>8493.03</td>\n",
       "      <td>1.000000</td>\n",
       "      <td>-3.029704</td>\n",
       "      <td>0</td>\n",
       "      <td>0_0_0</td>\n",
       "    </tr>\n",
       "    <tr>\n",
       "      <th>1</th>\n",
       "      <td>1</td>\n",
       "      <td>0</td>\n",
       "      <td>0</td>\n",
       "      <td>166603.91</td>\n",
       "      <td>-1</td>\n",
       "      <td>0.999896</td>\n",
       "      <td>1642214.25</td>\n",
       "      <td>NaN</td>\n",
       "      <td>NaN</td>\n",
       "      <td>0.999896</td>\n",
       "      <td>3233.04</td>\n",
       "      <td>1.000660</td>\n",
       "      <td>20605.09</td>\n",
       "      <td>1.000000</td>\n",
       "      <td>-5.519986</td>\n",
       "      <td>0</td>\n",
       "      <td>0_0_1</td>\n",
       "    </tr>\n",
       "    <tr>\n",
       "      <th>2</th>\n",
       "      <td>2</td>\n",
       "      <td>0</td>\n",
       "      <td>0</td>\n",
       "      <td>302879.87</td>\n",
       "      <td>-1</td>\n",
       "      <td>0.999561</td>\n",
       "      <td>1819368.03</td>\n",
       "      <td>NaN</td>\n",
       "      <td>NaN</td>\n",
       "      <td>0.999403</td>\n",
       "      <td>37956.00</td>\n",
       "      <td>1.000298</td>\n",
       "      <td>18995.00</td>\n",
       "      <td>1.000000</td>\n",
       "      <td>-8.389950</td>\n",
       "      <td>0</td>\n",
       "      <td>0_0_2</td>\n",
       "    </tr>\n",
       "    <tr>\n",
       "      <th>3</th>\n",
       "      <td>3</td>\n",
       "      <td>0</td>\n",
       "      <td>0</td>\n",
       "      <td>11917682.27</td>\n",
       "      <td>-1</td>\n",
       "      <td>1.000171</td>\n",
       "      <td>18389745.62</td>\n",
       "      <td>NaN</td>\n",
       "      <td>NaN</td>\n",
       "      <td>0.999999</td>\n",
       "      <td>2324.90</td>\n",
       "      <td>1.000214</td>\n",
       "      <td>479032.40</td>\n",
       "      <td>1.000000</td>\n",
       "      <td>-4.010200</td>\n",
       "      <td>0</td>\n",
       "      <td>0_0_3</td>\n",
       "    </tr>\n",
       "    <tr>\n",
       "      <th>4</th>\n",
       "      <td>4</td>\n",
       "      <td>0</td>\n",
       "      <td>0</td>\n",
       "      <td>447549.96</td>\n",
       "      <td>-1</td>\n",
       "      <td>0.999532</td>\n",
       "      <td>17860614.95</td>\n",
       "      <td>NaN</td>\n",
       "      <td>NaN</td>\n",
       "      <td>0.999394</td>\n",
       "      <td>16485.54</td>\n",
       "      <td>1.000016</td>\n",
       "      <td>434.10</td>\n",
       "      <td>1.000000</td>\n",
       "      <td>-7.349849</td>\n",
       "      <td>0</td>\n",
       "      <td>0_0_4</td>\n",
       "    </tr>\n",
       "    <tr>\n",
       "      <th>...</th>\n",
       "      <td>...</td>\n",
       "      <td>...</td>\n",
       "      <td>...</td>\n",
       "      <td>...</td>\n",
       "      <td>...</td>\n",
       "      <td>...</td>\n",
       "      <td>...</td>\n",
       "      <td>...</td>\n",
       "      <td>...</td>\n",
       "      <td>...</td>\n",
       "      <td>...</td>\n",
       "      <td>...</td>\n",
       "      <td>...</td>\n",
       "      <td>...</td>\n",
       "      <td>...</td>\n",
       "      <td>...</td>\n",
       "      <td>...</td>\n",
       "    </tr>\n",
       "    <tr>\n",
       "      <th>5237975</th>\n",
       "      <td>195</td>\n",
       "      <td>480</td>\n",
       "      <td>540</td>\n",
       "      <td>2440722.89</td>\n",
       "      <td>-1</td>\n",
       "      <td>1.000317</td>\n",
       "      <td>28280361.74</td>\n",
       "      <td>0.999734</td>\n",
       "      <td>0.999734</td>\n",
       "      <td>1.000317</td>\n",
       "      <td>32257.04</td>\n",
       "      <td>1.000434</td>\n",
       "      <td>319862.40</td>\n",
       "      <td>1.000328</td>\n",
       "      <td>2.310276</td>\n",
       "      <td>26454</td>\n",
       "      <td>480_540_195</td>\n",
       "    </tr>\n",
       "    <tr>\n",
       "      <th>5237976</th>\n",
       "      <td>196</td>\n",
       "      <td>480</td>\n",
       "      <td>540</td>\n",
       "      <td>349510.47</td>\n",
       "      <td>-1</td>\n",
       "      <td>1.000643</td>\n",
       "      <td>9187699.11</td>\n",
       "      <td>1.000129</td>\n",
       "      <td>1.000386</td>\n",
       "      <td>1.000643</td>\n",
       "      <td>205108.40</td>\n",
       "      <td>1.000900</td>\n",
       "      <td>93393.07</td>\n",
       "      <td>1.000819</td>\n",
       "      <td>-8.220077</td>\n",
       "      <td>26454</td>\n",
       "      <td>480_540_196</td>\n",
       "    </tr>\n",
       "    <tr>\n",
       "      <th>5237977</th>\n",
       "      <td>197</td>\n",
       "      <td>480</td>\n",
       "      <td>540</td>\n",
       "      <td>0.00</td>\n",
       "      <td>0</td>\n",
       "      <td>0.995789</td>\n",
       "      <td>12725436.10</td>\n",
       "      <td>0.995789</td>\n",
       "      <td>0.995789</td>\n",
       "      <td>0.995789</td>\n",
       "      <td>16790.66</td>\n",
       "      <td>0.995883</td>\n",
       "      <td>180038.32</td>\n",
       "      <td>0.995797</td>\n",
       "      <td>1.169443</td>\n",
       "      <td>26454</td>\n",
       "      <td>480_540_197</td>\n",
       "    </tr>\n",
       "    <tr>\n",
       "      <th>5237978</th>\n",
       "      <td>198</td>\n",
       "      <td>480</td>\n",
       "      <td>540</td>\n",
       "      <td>1000898.84</td>\n",
       "      <td>1</td>\n",
       "      <td>0.999210</td>\n",
       "      <td>94773271.05</td>\n",
       "      <td>0.999210</td>\n",
       "      <td>0.999210</td>\n",
       "      <td>0.998970</td>\n",
       "      <td>125631.72</td>\n",
       "      <td>0.999210</td>\n",
       "      <td>669893.00</td>\n",
       "      <td>0.999008</td>\n",
       "      <td>-1.540184</td>\n",
       "      <td>26454</td>\n",
       "      <td>480_540_198</td>\n",
       "    </tr>\n",
       "    <tr>\n",
       "      <th>5237979</th>\n",
       "      <td>199</td>\n",
       "      <td>480</td>\n",
       "      <td>540</td>\n",
       "      <td>1884285.71</td>\n",
       "      <td>-1</td>\n",
       "      <td>1.002129</td>\n",
       "      <td>24073677.32</td>\n",
       "      <td>1.000859</td>\n",
       "      <td>1.001494</td>\n",
       "      <td>1.002129</td>\n",
       "      <td>250081.44</td>\n",
       "      <td>1.002447</td>\n",
       "      <td>300167.56</td>\n",
       "      <td>1.002274</td>\n",
       "      <td>-6.530285</td>\n",
       "      <td>26454</td>\n",
       "      <td>480_540_199</td>\n",
       "    </tr>\n",
       "  </tbody>\n",
       "</table>\n",
       "<p>5237980 rows × 17 columns</p>\n",
       "</div>"
      ],
      "text/plain": [
       "         stock_id  date_id  seconds_in_bucket  imbalance_size  \\\n",
       "0               0        0                  0      3180602.69   \n",
       "1               1        0                  0       166603.91   \n",
       "2               2        0                  0       302879.87   \n",
       "3               3        0                  0     11917682.27   \n",
       "4               4        0                  0       447549.96   \n",
       "...           ...      ...                ...             ...   \n",
       "5237975       195      480                540      2440722.89   \n",
       "5237976       196      480                540       349510.47   \n",
       "5237977       197      480                540            0.00   \n",
       "5237978       198      480                540      1000898.84   \n",
       "5237979       199      480                540      1884285.71   \n",
       "\n",
       "         imbalance_buy_sell_flag  reference_price  matched_size  far_price  \\\n",
       "0                              1         0.999812   13380276.64        NaN   \n",
       "1                             -1         0.999896    1642214.25        NaN   \n",
       "2                             -1         0.999561    1819368.03        NaN   \n",
       "3                             -1         1.000171   18389745.62        NaN   \n",
       "4                             -1         0.999532   17860614.95        NaN   \n",
       "...                          ...              ...           ...        ...   \n",
       "5237975                       -1         1.000317   28280361.74   0.999734   \n",
       "5237976                       -1         1.000643    9187699.11   1.000129   \n",
       "5237977                        0         0.995789   12725436.10   0.995789   \n",
       "5237978                        1         0.999210   94773271.05   0.999210   \n",
       "5237979                       -1         1.002129   24073677.32   1.000859   \n",
       "\n",
       "         near_price  bid_price   bid_size  ask_price   ask_size       wap  \\\n",
       "0               NaN   0.999812   60651.50   1.000026    8493.03  1.000000   \n",
       "1               NaN   0.999896    3233.04   1.000660   20605.09  1.000000   \n",
       "2               NaN   0.999403   37956.00   1.000298   18995.00  1.000000   \n",
       "3               NaN   0.999999    2324.90   1.000214  479032.40  1.000000   \n",
       "4               NaN   0.999394   16485.54   1.000016     434.10  1.000000   \n",
       "...             ...        ...        ...        ...        ...       ...   \n",
       "5237975    0.999734   1.000317   32257.04   1.000434  319862.40  1.000328   \n",
       "5237976    1.000386   1.000643  205108.40   1.000900   93393.07  1.000819   \n",
       "5237977    0.995789   0.995789   16790.66   0.995883  180038.32  0.995797   \n",
       "5237978    0.999210   0.998970  125631.72   0.999210  669893.00  0.999008   \n",
       "5237979    1.001494   1.002129  250081.44   1.002447  300167.56  1.002274   \n",
       "\n",
       "           target  time_id       row_id  \n",
       "0       -3.029704        0        0_0_0  \n",
       "1       -5.519986        0        0_0_1  \n",
       "2       -8.389950        0        0_0_2  \n",
       "3       -4.010200        0        0_0_3  \n",
       "4       -7.349849        0        0_0_4  \n",
       "...           ...      ...          ...  \n",
       "5237975  2.310276    26454  480_540_195  \n",
       "5237976 -8.220077    26454  480_540_196  \n",
       "5237977  1.169443    26454  480_540_197  \n",
       "5237978 -1.540184    26454  480_540_198  \n",
       "5237979 -6.530285    26454  480_540_199  \n",
       "\n",
       "[5237980 rows x 17 columns]"
      ]
     },
     "execution_count": 5,
     "metadata": {},
     "output_type": "execute_result"
    }
   ],
   "source": [
    "train_csv"
   ]
  },
  {
   "cell_type": "code",
   "execution_count": 11,
   "metadata": {},
   "outputs": [],
   "source": [
    "sub_set = train_csv.sample(frac= 0.001)"
   ]
  },
  {
   "cell_type": "code",
   "execution_count": 12,
   "metadata": {},
   "outputs": [],
   "source": [
    "sub_set.to_csv('sub_set_1.csv')"
   ]
  },
  {
   "cell_type": "code",
   "execution_count": 20,
   "metadata": {},
   "outputs": [],
   "source": [
    "asset_1_day_1 = train_csv.loc[lambda df: (df.stock_id == 0) & (df.date_id == 0)]"
   ]
  },
  {
   "cell_type": "code",
   "execution_count": 21,
   "metadata": {},
   "outputs": [
    {
     "data": {
      "text/html": [
       "<div>\n",
       "<style scoped>\n",
       "    .dataframe tbody tr th:only-of-type {\n",
       "        vertical-align: middle;\n",
       "    }\n",
       "\n",
       "    .dataframe tbody tr th {\n",
       "        vertical-align: top;\n",
       "    }\n",
       "\n",
       "    .dataframe thead th {\n",
       "        text-align: right;\n",
       "    }\n",
       "</style>\n",
       "<table border=\"1\" class=\"dataframe\">\n",
       "  <thead>\n",
       "    <tr style=\"text-align: right;\">\n",
       "      <th></th>\n",
       "      <th>stock_id</th>\n",
       "      <th>date_id</th>\n",
       "      <th>seconds_in_bucket</th>\n",
       "      <th>imbalance_size</th>\n",
       "      <th>imbalance_buy_sell_flag</th>\n",
       "      <th>reference_price</th>\n",
       "      <th>matched_size</th>\n",
       "      <th>far_price</th>\n",
       "      <th>near_price</th>\n",
       "      <th>bid_price</th>\n",
       "      <th>bid_size</th>\n",
       "      <th>ask_price</th>\n",
       "      <th>ask_size</th>\n",
       "      <th>wap</th>\n",
       "      <th>target</th>\n",
       "      <th>time_id</th>\n",
       "      <th>row_id</th>\n",
       "    </tr>\n",
       "  </thead>\n",
       "  <tbody>\n",
       "    <tr>\n",
       "      <th>0</th>\n",
       "      <td>0</td>\n",
       "      <td>0</td>\n",
       "      <td>0</td>\n",
       "      <td>3180602.69</td>\n",
       "      <td>1</td>\n",
       "      <td>0.999812</td>\n",
       "      <td>13380276.64</td>\n",
       "      <td>NaN</td>\n",
       "      <td>NaN</td>\n",
       "      <td>0.999812</td>\n",
       "      <td>60651.50</td>\n",
       "      <td>1.000026</td>\n",
       "      <td>8493.03</td>\n",
       "      <td>1.000000</td>\n",
       "      <td>-3.029704</td>\n",
       "      <td>0</td>\n",
       "      <td>0_0_0</td>\n",
       "    </tr>\n",
       "    <tr>\n",
       "      <th>191</th>\n",
       "      <td>0</td>\n",
       "      <td>0</td>\n",
       "      <td>10</td>\n",
       "      <td>1299772.70</td>\n",
       "      <td>1</td>\n",
       "      <td>1.000026</td>\n",
       "      <td>15261106.63</td>\n",
       "      <td>NaN</td>\n",
       "      <td>NaN</td>\n",
       "      <td>0.999812</td>\n",
       "      <td>13996.50</td>\n",
       "      <td>1.000026</td>\n",
       "      <td>23519.16</td>\n",
       "      <td>0.999892</td>\n",
       "      <td>0.389814</td>\n",
       "      <td>1</td>\n",
       "      <td>0_10_0</td>\n",
       "    </tr>\n",
       "    <tr>\n",
       "      <th>382</th>\n",
       "      <td>0</td>\n",
       "      <td>0</td>\n",
       "      <td>20</td>\n",
       "      <td>1299772.70</td>\n",
       "      <td>1</td>\n",
       "      <td>0.999919</td>\n",
       "      <td>15261106.63</td>\n",
       "      <td>NaN</td>\n",
       "      <td>NaN</td>\n",
       "      <td>0.999812</td>\n",
       "      <td>4665.50</td>\n",
       "      <td>0.999919</td>\n",
       "      <td>12131.60</td>\n",
       "      <td>0.999842</td>\n",
       "      <td>4.220009</td>\n",
       "      <td>2</td>\n",
       "      <td>0_20_0</td>\n",
       "    </tr>\n",
       "    <tr>\n",
       "      <th>573</th>\n",
       "      <td>0</td>\n",
       "      <td>0</td>\n",
       "      <td>30</td>\n",
       "      <td>1299772.70</td>\n",
       "      <td>1</td>\n",
       "      <td>1.000133</td>\n",
       "      <td>15261106.63</td>\n",
       "      <td>NaN</td>\n",
       "      <td>NaN</td>\n",
       "      <td>1.000026</td>\n",
       "      <td>55998.00</td>\n",
       "      <td>1.000133</td>\n",
       "      <td>46203.30</td>\n",
       "      <td>1.000085</td>\n",
       "      <td>5.450249</td>\n",
       "      <td>3</td>\n",
       "      <td>0_30_0</td>\n",
       "    </tr>\n",
       "    <tr>\n",
       "      <th>764</th>\n",
       "      <td>0</td>\n",
       "      <td>0</td>\n",
       "      <td>40</td>\n",
       "      <td>1218204.43</td>\n",
       "      <td>1</td>\n",
       "      <td>1.000455</td>\n",
       "      <td>15342674.90</td>\n",
       "      <td>NaN</td>\n",
       "      <td>NaN</td>\n",
       "      <td>1.000241</td>\n",
       "      <td>14655.95</td>\n",
       "      <td>1.000455</td>\n",
       "      <td>26610.45</td>\n",
       "      <td>1.000317</td>\n",
       "      <td>3.169775</td>\n",
       "      <td>4</td>\n",
       "      <td>0_40_0</td>\n",
       "    </tr>\n",
       "    <tr>\n",
       "      <th>955</th>\n",
       "      <td>0</td>\n",
       "      <td>0</td>\n",
       "      <td>50</td>\n",
       "      <td>1218204.43</td>\n",
       "      <td>1</td>\n",
       "      <td>1.000455</td>\n",
       "      <td>15342674.90</td>\n",
       "      <td>NaN</td>\n",
       "      <td>NaN</td>\n",
       "      <td>1.000348</td>\n",
       "      <td>42012.00</td>\n",
       "      <td>1.000455</td>\n",
       "      <td>9897.22</td>\n",
       "      <td>1.000434</td>\n",
       "      <td>0.599623</td>\n",
       "      <td>5</td>\n",
       "      <td>0_50_0</td>\n",
       "    </tr>\n",
       "    <tr>\n",
       "      <th>1146</th>\n",
       "      <td>0</td>\n",
       "      <td>0</td>\n",
       "      <td>60</td>\n",
       "      <td>1218204.43</td>\n",
       "      <td>1</td>\n",
       "      <td>1.000562</td>\n",
       "      <td>15342674.90</td>\n",
       "      <td>NaN</td>\n",
       "      <td>NaN</td>\n",
       "      <td>1.000455</td>\n",
       "      <td>14005.50</td>\n",
       "      <td>1.000562</td>\n",
       "      <td>10085.04</td>\n",
       "      <td>1.000517</td>\n",
       "      <td>-0.200272</td>\n",
       "      <td>6</td>\n",
       "      <td>0_60_0</td>\n",
       "    </tr>\n",
       "    <tr>\n",
       "      <th>1337</th>\n",
       "      <td>0</td>\n",
       "      <td>0</td>\n",
       "      <td>70</td>\n",
       "      <td>1264494.89</td>\n",
       "      <td>1</td>\n",
       "      <td>1.000455</td>\n",
       "      <td>15352380.96</td>\n",
       "      <td>NaN</td>\n",
       "      <td>NaN</td>\n",
       "      <td>1.000348</td>\n",
       "      <td>37904.16</td>\n",
       "      <td>1.000455</td>\n",
       "      <td>17366.82</td>\n",
       "      <td>1.000421</td>\n",
       "      <td>2.410412</td>\n",
       "      <td>7</td>\n",
       "      <td>0_70_0</td>\n",
       "    </tr>\n",
       "    <tr>\n",
       "      <th>1528</th>\n",
       "      <td>0</td>\n",
       "      <td>0</td>\n",
       "      <td>80</td>\n",
       "      <td>1189832.86</td>\n",
       "      <td>1</td>\n",
       "      <td>1.000241</td>\n",
       "      <td>15427043.00</td>\n",
       "      <td>NaN</td>\n",
       "      <td>NaN</td>\n",
       "      <td>1.000133</td>\n",
       "      <td>9427.34</td>\n",
       "      <td>1.000241</td>\n",
       "      <td>61984.40</td>\n",
       "      <td>1.000148</td>\n",
       "      <td>-0.389814</td>\n",
       "      <td>8</td>\n",
       "      <td>0_80_0</td>\n",
       "    </tr>\n",
       "    <tr>\n",
       "      <th>1719</th>\n",
       "      <td>0</td>\n",
       "      <td>0</td>\n",
       "      <td>90</td>\n",
       "      <td>1189272.89</td>\n",
       "      <td>1</td>\n",
       "      <td>1.000562</td>\n",
       "      <td>15427602.97</td>\n",
       "      <td>NaN</td>\n",
       "      <td>NaN</td>\n",
       "      <td>1.000348</td>\n",
       "      <td>23340.00</td>\n",
       "      <td>1.000562</td>\n",
       "      <td>40433.54</td>\n",
       "      <td>1.000426</td>\n",
       "      <td>-4.339814</td>\n",
       "      <td>9</td>\n",
       "      <td>0_90_0</td>\n",
       "    </tr>\n",
       "    <tr>\n",
       "      <th>1910</th>\n",
       "      <td>0</td>\n",
       "      <td>0</td>\n",
       "      <td>100</td>\n",
       "      <td>1249282.50</td>\n",
       "      <td>1</td>\n",
       "      <td>1.000348</td>\n",
       "      <td>15427602.97</td>\n",
       "      <td>NaN</td>\n",
       "      <td>NaN</td>\n",
       "      <td>1.000241</td>\n",
       "      <td>9801.75</td>\n",
       "      <td>1.000348</td>\n",
       "      <td>42572.16</td>\n",
       "      <td>1.000261</td>\n",
       "      <td>-2.049804</td>\n",
       "      <td>10</td>\n",
       "      <td>0_100_0</td>\n",
       "    </tr>\n",
       "    <tr>\n",
       "      <th>2101</th>\n",
       "      <td>0</td>\n",
       "      <td>0</td>\n",
       "      <td>110</td>\n",
       "      <td>1277280.77</td>\n",
       "      <td>1</td>\n",
       "      <td>1.000133</td>\n",
       "      <td>15399604.70</td>\n",
       "      <td>NaN</td>\n",
       "      <td>NaN</td>\n",
       "      <td>1.000026</td>\n",
       "      <td>5039.82</td>\n",
       "      <td>1.000133</td>\n",
       "      <td>28375.36</td>\n",
       "      <td>1.000042</td>\n",
       "      <td>0.020266</td>\n",
       "      <td>11</td>\n",
       "      <td>0_110_0</td>\n",
       "    </tr>\n",
       "    <tr>\n",
       "      <th>2292</th>\n",
       "      <td>0</td>\n",
       "      <td>0</td>\n",
       "      <td>120</td>\n",
       "      <td>1216057.90</td>\n",
       "      <td>1</td>\n",
       "      <td>1.000133</td>\n",
       "      <td>15460827.57</td>\n",
       "      <td>NaN</td>\n",
       "      <td>NaN</td>\n",
       "      <td>0.999812</td>\n",
       "      <td>43482.46</td>\n",
       "      <td>1.000026</td>\n",
       "      <td>68224.23</td>\n",
       "      <td>0.999895</td>\n",
       "      <td>2.290011</td>\n",
       "      <td>12</td>\n",
       "      <td>0_120_0</td>\n",
       "    </tr>\n",
       "    <tr>\n",
       "      <th>2483</th>\n",
       "      <td>0</td>\n",
       "      <td>0</td>\n",
       "      <td>130</td>\n",
       "      <td>1216057.90</td>\n",
       "      <td>1</td>\n",
       "      <td>1.000026</td>\n",
       "      <td>15460827.57</td>\n",
       "      <td>NaN</td>\n",
       "      <td>NaN</td>\n",
       "      <td>0.999812</td>\n",
       "      <td>32658.50</td>\n",
       "      <td>1.000026</td>\n",
       "      <td>13999.50</td>\n",
       "      <td>0.999962</td>\n",
       "      <td>1.000166</td>\n",
       "      <td>13</td>\n",
       "      <td>0_130_0</td>\n",
       "    </tr>\n",
       "    <tr>\n",
       "      <th>2674</th>\n",
       "      <td>0</td>\n",
       "      <td>0</td>\n",
       "      <td>140</td>\n",
       "      <td>1104904.79</td>\n",
       "      <td>1</td>\n",
       "      <td>0.999919</td>\n",
       "      <td>15571980.68</td>\n",
       "      <td>NaN</td>\n",
       "      <td>NaN</td>\n",
       "      <td>0.999705</td>\n",
       "      <td>33028.20</td>\n",
       "      <td>0.999919</td>\n",
       "      <td>25196.40</td>\n",
       "      <td>0.999826</td>\n",
       "      <td>-1.699925</td>\n",
       "      <td>14</td>\n",
       "      <td>0_140_0</td>\n",
       "    </tr>\n",
       "    <tr>\n",
       "      <th>2865</th>\n",
       "      <td>0</td>\n",
       "      <td>0</td>\n",
       "      <td>150</td>\n",
       "      <td>1085679.32</td>\n",
       "      <td>1</td>\n",
       "      <td>0.999812</td>\n",
       "      <td>15591206.15</td>\n",
       "      <td>NaN</td>\n",
       "      <td>NaN</td>\n",
       "      <td>0.999705</td>\n",
       "      <td>51688.20</td>\n",
       "      <td>0.999812</td>\n",
       "      <td>15769.39</td>\n",
       "      <td>0.999787</td>\n",
       "      <td>-1.680255</td>\n",
       "      <td>15</td>\n",
       "      <td>0_150_0</td>\n",
       "    </tr>\n",
       "    <tr>\n",
       "      <th>3056</th>\n",
       "      <td>0</td>\n",
       "      <td>0</td>\n",
       "      <td>160</td>\n",
       "      <td>1085679.32</td>\n",
       "      <td>1</td>\n",
       "      <td>0.999598</td>\n",
       "      <td>15591206.15</td>\n",
       "      <td>NaN</td>\n",
       "      <td>NaN</td>\n",
       "      <td>0.999491</td>\n",
       "      <td>7089.28</td>\n",
       "      <td>0.999598</td>\n",
       "      <td>186.58</td>\n",
       "      <td>0.999595</td>\n",
       "      <td>-4.119873</td>\n",
       "      <td>16</td>\n",
       "      <td>0_160_0</td>\n",
       "    </tr>\n",
       "    <tr>\n",
       "      <th>3247</th>\n",
       "      <td>0</td>\n",
       "      <td>0</td>\n",
       "      <td>170</td>\n",
       "      <td>1085679.32</td>\n",
       "      <td>1</td>\n",
       "      <td>0.999598</td>\n",
       "      <td>15591206.15</td>\n",
       "      <td>NaN</td>\n",
       "      <td>NaN</td>\n",
       "      <td>0.999383</td>\n",
       "      <td>29939.67</td>\n",
       "      <td>0.999598</td>\n",
       "      <td>28173.58</td>\n",
       "      <td>0.999494</td>\n",
       "      <td>-4.490018</td>\n",
       "      <td>17</td>\n",
       "      <td>0_170_0</td>\n",
       "    </tr>\n",
       "    <tr>\n",
       "      <th>3438</th>\n",
       "      <td>0</td>\n",
       "      <td>0</td>\n",
       "      <td>180</td>\n",
       "      <td>1445736.98</td>\n",
       "      <td>1</td>\n",
       "      <td>0.999705</td>\n",
       "      <td>15642349.64</td>\n",
       "      <td>NaN</td>\n",
       "      <td>NaN</td>\n",
       "      <td>0.999598</td>\n",
       "      <td>18658.00</td>\n",
       "      <td>0.999705</td>\n",
       "      <td>9330.00</td>\n",
       "      <td>0.999669</td>\n",
       "      <td>-3.029704</td>\n",
       "      <td>18</td>\n",
       "      <td>0_180_0</td>\n",
       "    </tr>\n",
       "    <tr>\n",
       "      <th>3629</th>\n",
       "      <td>0</td>\n",
       "      <td>0</td>\n",
       "      <td>190</td>\n",
       "      <td>1771730.09</td>\n",
       "      <td>1</td>\n",
       "      <td>0.999812</td>\n",
       "      <td>15642349.64</td>\n",
       "      <td>NaN</td>\n",
       "      <td>NaN</td>\n",
       "      <td>0.999705</td>\n",
       "      <td>18660.00</td>\n",
       "      <td>0.999812</td>\n",
       "      <td>21181.37</td>\n",
       "      <td>0.999755</td>\n",
       "      <td>-5.919933</td>\n",
       "      <td>19</td>\n",
       "      <td>0_190_0</td>\n",
       "    </tr>\n",
       "    <tr>\n",
       "      <th>3820</th>\n",
       "      <td>0</td>\n",
       "      <td>0</td>\n",
       "      <td>200</td>\n",
       "      <td>1743731.83</td>\n",
       "      <td>1</td>\n",
       "      <td>0.999383</td>\n",
       "      <td>15670347.91</td>\n",
       "      <td>NaN</td>\n",
       "      <td>NaN</td>\n",
       "      <td>0.999276</td>\n",
       "      <td>11191.20</td>\n",
       "      <td>0.999383</td>\n",
       "      <td>59692.80</td>\n",
       "      <td>0.999293</td>\n",
       "      <td>0.510216</td>\n",
       "      <td>20</td>\n",
       "      <td>0_200_0</td>\n",
       "    </tr>\n",
       "    <tr>\n",
       "      <th>4011</th>\n",
       "      <td>0</td>\n",
       "      <td>0</td>\n",
       "      <td>210</td>\n",
       "      <td>1743731.83</td>\n",
       "      <td>1</td>\n",
       "      <td>0.999383</td>\n",
       "      <td>15670347.91</td>\n",
       "      <td>NaN</td>\n",
       "      <td>NaN</td>\n",
       "      <td>0.999169</td>\n",
       "      <td>30119.75</td>\n",
       "      <td>0.999383</td>\n",
       "      <td>74802.54</td>\n",
       "      <td>0.999231</td>\n",
       "      <td>0.690222</td>\n",
       "      <td>21</td>\n",
       "      <td>0_210_0</td>\n",
       "    </tr>\n",
       "    <tr>\n",
       "      <th>4202</th>\n",
       "      <td>0</td>\n",
       "      <td>0</td>\n",
       "      <td>220</td>\n",
       "      <td>1743731.83</td>\n",
       "      <td>1</td>\n",
       "      <td>0.999383</td>\n",
       "      <td>15670347.91</td>\n",
       "      <td>NaN</td>\n",
       "      <td>NaN</td>\n",
       "      <td>0.999169</td>\n",
       "      <td>20794.75</td>\n",
       "      <td>0.999383</td>\n",
       "      <td>84502.62</td>\n",
       "      <td>0.999211</td>\n",
       "      <td>5.270243</td>\n",
       "      <td>22</td>\n",
       "      <td>0_220_0</td>\n",
       "    </tr>\n",
       "    <tr>\n",
       "      <th>4393</th>\n",
       "      <td>0</td>\n",
       "      <td>0</td>\n",
       "      <td>230</td>\n",
       "      <td>1797301.84</td>\n",
       "      <td>1</td>\n",
       "      <td>0.999276</td>\n",
       "      <td>15670347.91</td>\n",
       "      <td>NaN</td>\n",
       "      <td>NaN</td>\n",
       "      <td>0.999169</td>\n",
       "      <td>18743.25</td>\n",
       "      <td>0.999276</td>\n",
       "      <td>9326.00</td>\n",
       "      <td>0.999241</td>\n",
       "      <td>6.630421</td>\n",
       "      <td>23</td>\n",
       "      <td>0_230_0</td>\n",
       "    </tr>\n",
       "    <tr>\n",
       "      <th>4584</th>\n",
       "      <td>0</td>\n",
       "      <td>0</td>\n",
       "      <td>240</td>\n",
       "      <td>1783022.73</td>\n",
       "      <td>1</td>\n",
       "      <td>0.999705</td>\n",
       "      <td>15687146.86</td>\n",
       "      <td>NaN</td>\n",
       "      <td>NaN</td>\n",
       "      <td>0.999491</td>\n",
       "      <td>37778.40</td>\n",
       "      <td>0.999705</td>\n",
       "      <td>37320.00</td>\n",
       "      <td>0.999598</td>\n",
       "      <td>2.130270</td>\n",
       "      <td>24</td>\n",
       "      <td>0_240_0</td>\n",
       "    </tr>\n",
       "    <tr>\n",
       "      <th>4775</th>\n",
       "      <td>0</td>\n",
       "      <td>0</td>\n",
       "      <td>250</td>\n",
       "      <td>2445554.96</td>\n",
       "      <td>1</td>\n",
       "      <td>0.999276</td>\n",
       "      <td>15687986.81</td>\n",
       "      <td>NaN</td>\n",
       "      <td>NaN</td>\n",
       "      <td>0.999276</td>\n",
       "      <td>9326.00</td>\n",
       "      <td>0.999491</td>\n",
       "      <td>51304.00</td>\n",
       "      <td>0.999309</td>\n",
       "      <td>2.290011</td>\n",
       "      <td>25</td>\n",
       "      <td>0_250_0</td>\n",
       "    </tr>\n",
       "    <tr>\n",
       "      <th>4966</th>\n",
       "      <td>0</td>\n",
       "      <td>0</td>\n",
       "      <td>260</td>\n",
       "      <td>2396184.69</td>\n",
       "      <td>1</td>\n",
       "      <td>0.999276</td>\n",
       "      <td>15737357.08</td>\n",
       "      <td>NaN</td>\n",
       "      <td>NaN</td>\n",
       "      <td>0.999276</td>\n",
       "      <td>9326.00</td>\n",
       "      <td>0.999383</td>\n",
       "      <td>13803.96</td>\n",
       "      <td>0.999319</td>\n",
       "      <td>-0.939965</td>\n",
       "      <td>26</td>\n",
       "      <td>0_260_0</td>\n",
       "    </tr>\n",
       "    <tr>\n",
       "      <th>5157</th>\n",
       "      <td>0</td>\n",
       "      <td>0</td>\n",
       "      <td>270</td>\n",
       "      <td>2396184.69</td>\n",
       "      <td>1</td>\n",
       "      <td>0.999383</td>\n",
       "      <td>15737357.08</td>\n",
       "      <td>NaN</td>\n",
       "      <td>NaN</td>\n",
       "      <td>0.999276</td>\n",
       "      <td>9326.00</td>\n",
       "      <td>0.999383</td>\n",
       "      <td>41784.96</td>\n",
       "      <td>0.999296</td>\n",
       "      <td>-1.059771</td>\n",
       "      <td>27</td>\n",
       "      <td>0_270_0</td>\n",
       "    </tr>\n",
       "    <tr>\n",
       "      <th>5348</th>\n",
       "      <td>0</td>\n",
       "      <td>0</td>\n",
       "      <td>280</td>\n",
       "      <td>7226445.05</td>\n",
       "      <td>1</td>\n",
       "      <td>0.999383</td>\n",
       "      <td>16782158.94</td>\n",
       "      <td>NaN</td>\n",
       "      <td>NaN</td>\n",
       "      <td>0.999705</td>\n",
       "      <td>13995.00</td>\n",
       "      <td>1.000026</td>\n",
       "      <td>23985.81</td>\n",
       "      <td>0.999823</td>\n",
       "      <td>-9.760261</td>\n",
       "      <td>28</td>\n",
       "      <td>0_280_0</td>\n",
       "    </tr>\n",
       "    <tr>\n",
       "      <th>5539</th>\n",
       "      <td>0</td>\n",
       "      <td>0</td>\n",
       "      <td>290</td>\n",
       "      <td>8512685.26</td>\n",
       "      <td>1</td>\n",
       "      <td>0.999919</td>\n",
       "      <td>17414453.05</td>\n",
       "      <td>NaN</td>\n",
       "      <td>NaN</td>\n",
       "      <td>1.000241</td>\n",
       "      <td>3734.00</td>\n",
       "      <td>1.000776</td>\n",
       "      <td>9620.20</td>\n",
       "      <td>1.000390</td>\n",
       "      <td>-10.679960</td>\n",
       "      <td>29</td>\n",
       "      <td>0_290_0</td>\n",
       "    </tr>\n",
       "    <tr>\n",
       "      <th>5730</th>\n",
       "      <td>0</td>\n",
       "      <td>0</td>\n",
       "      <td>300</td>\n",
       "      <td>0.00</td>\n",
       "      <td>0</td>\n",
       "      <td>1.000241</td>\n",
       "      <td>26670118.88</td>\n",
       "      <td>1.000241</td>\n",
       "      <td>1.000241</td>\n",
       "      <td>1.000026</td>\n",
       "      <td>19319.31</td>\n",
       "      <td>1.000241</td>\n",
       "      <td>16149.55</td>\n",
       "      <td>1.000143</td>\n",
       "      <td>-10.039806</td>\n",
       "      <td>30</td>\n",
       "      <td>0_300_0</td>\n",
       "    </tr>\n",
       "    <tr>\n",
       "      <th>5921</th>\n",
       "      <td>0</td>\n",
       "      <td>0</td>\n",
       "      <td>310</td>\n",
       "      <td>0.00</td>\n",
       "      <td>0</td>\n",
       "      <td>0.999919</td>\n",
       "      <td>26670118.88</td>\n",
       "      <td>0.999919</td>\n",
       "      <td>0.999919</td>\n",
       "      <td>0.999812</td>\n",
       "      <td>22767.64</td>\n",
       "      <td>0.999919</td>\n",
       "      <td>18664.00</td>\n",
       "      <td>0.999871</td>\n",
       "      <td>-6.039739</td>\n",
       "      <td>31</td>\n",
       "      <td>0_310_0</td>\n",
       "    </tr>\n",
       "    <tr>\n",
       "      <th>6112</th>\n",
       "      <td>0</td>\n",
       "      <td>0</td>\n",
       "      <td>320</td>\n",
       "      <td>0.00</td>\n",
       "      <td>0</td>\n",
       "      <td>0.999919</td>\n",
       "      <td>26670118.88</td>\n",
       "      <td>0.999919</td>\n",
       "      <td>0.999919</td>\n",
       "      <td>0.999705</td>\n",
       "      <td>49262.40</td>\n",
       "      <td>0.999919</td>\n",
       "      <td>37607.96</td>\n",
       "      <td>0.999826</td>\n",
       "      <td>-5.440116</td>\n",
       "      <td>32</td>\n",
       "      <td>0_320_0</td>\n",
       "    </tr>\n",
       "    <tr>\n",
       "      <th>6303</th>\n",
       "      <td>0</td>\n",
       "      <td>0</td>\n",
       "      <td>330</td>\n",
       "      <td>0.00</td>\n",
       "      <td>0</td>\n",
       "      <td>0.999812</td>\n",
       "      <td>26670118.88</td>\n",
       "      <td>0.999812</td>\n",
       "      <td>0.999812</td>\n",
       "      <td>0.999705</td>\n",
       "      <td>27990.00</td>\n",
       "      <td>0.999812</td>\n",
       "      <td>14276.43</td>\n",
       "      <td>0.999776</td>\n",
       "      <td>-7.439852</td>\n",
       "      <td>33</td>\n",
       "      <td>0_330_0</td>\n",
       "    </tr>\n",
       "    <tr>\n",
       "      <th>6494</th>\n",
       "      <td>0</td>\n",
       "      <td>0</td>\n",
       "      <td>340</td>\n",
       "      <td>0.00</td>\n",
       "      <td>0</td>\n",
       "      <td>0.999491</td>\n",
       "      <td>26670118.88</td>\n",
       "      <td>0.999491</td>\n",
       "      <td>0.999491</td>\n",
       "      <td>0.999169</td>\n",
       "      <td>18743.25</td>\n",
       "      <td>0.999383</td>\n",
       "      <td>40012.83</td>\n",
       "      <td>0.999237</td>\n",
       "      <td>-2.700090</td>\n",
       "      <td>34</td>\n",
       "      <td>0_340_0</td>\n",
       "    </tr>\n",
       "    <tr>\n",
       "      <th>6685</th>\n",
       "      <td>0</td>\n",
       "      <td>0</td>\n",
       "      <td>350</td>\n",
       "      <td>0.00</td>\n",
       "      <td>0</td>\n",
       "      <td>0.999169</td>\n",
       "      <td>26670118.88</td>\n",
       "      <td>0.999169</td>\n",
       "      <td>0.999169</td>\n",
       "      <td>0.999062</td>\n",
       "      <td>22564.08</td>\n",
       "      <td>0.999169</td>\n",
       "      <td>37486.50</td>\n",
       "      <td>0.999102</td>\n",
       "      <td>-4.469752</td>\n",
       "      <td>35</td>\n",
       "      <td>0_350_0</td>\n",
       "    </tr>\n",
       "    <tr>\n",
       "      <th>6876</th>\n",
       "      <td>0</td>\n",
       "      <td>0</td>\n",
       "      <td>360</td>\n",
       "      <td>0.00</td>\n",
       "      <td>0</td>\n",
       "      <td>0.999062</td>\n",
       "      <td>26670118.88</td>\n",
       "      <td>0.999062</td>\n",
       "      <td>0.999062</td>\n",
       "      <td>0.998955</td>\n",
       "      <td>46987.92</td>\n",
       "      <td>0.999062</td>\n",
       "      <td>96969.60</td>\n",
       "      <td>0.998990</td>\n",
       "      <td>-2.729893</td>\n",
       "      <td>36</td>\n",
       "      <td>0_360_0</td>\n",
       "    </tr>\n",
       "    <tr>\n",
       "      <th>7067</th>\n",
       "      <td>0</td>\n",
       "      <td>0</td>\n",
       "      <td>370</td>\n",
       "      <td>0.00</td>\n",
       "      <td>0</td>\n",
       "      <td>0.999383</td>\n",
       "      <td>26670118.88</td>\n",
       "      <td>0.999383</td>\n",
       "      <td>0.999383</td>\n",
       "      <td>0.999276</td>\n",
       "      <td>746.08</td>\n",
       "      <td>0.999383</td>\n",
       "      <td>22384.80</td>\n",
       "      <td>0.999280</td>\n",
       "      <td>-4.240274</td>\n",
       "      <td>37</td>\n",
       "      <td>0_370_0</td>\n",
       "    </tr>\n",
       "    <tr>\n",
       "      <th>7258</th>\n",
       "      <td>0</td>\n",
       "      <td>0</td>\n",
       "      <td>380</td>\n",
       "      <td>0.00</td>\n",
       "      <td>0</td>\n",
       "      <td>0.999276</td>\n",
       "      <td>26670118.88</td>\n",
       "      <td>0.999276</td>\n",
       "      <td>0.999276</td>\n",
       "      <td>0.999169</td>\n",
       "      <td>46904.75</td>\n",
       "      <td>0.999276</td>\n",
       "      <td>2797.80</td>\n",
       "      <td>0.999270</td>\n",
       "      <td>-4.259944</td>\n",
       "      <td>38</td>\n",
       "      <td>0_380_0</td>\n",
       "    </tr>\n",
       "    <tr>\n",
       "      <th>7449</th>\n",
       "      <td>0</td>\n",
       "      <td>0</td>\n",
       "      <td>390</td>\n",
       "      <td>0.00</td>\n",
       "      <td>0</td>\n",
       "      <td>0.999276</td>\n",
       "      <td>26670118.88</td>\n",
       "      <td>0.999276</td>\n",
       "      <td>0.999276</td>\n",
       "      <td>0.999169</td>\n",
       "      <td>116842.25</td>\n",
       "      <td>0.999276</td>\n",
       "      <td>50173.88</td>\n",
       "      <td>0.999244</td>\n",
       "      <td>-2.009869</td>\n",
       "      <td>39</td>\n",
       "      <td>0_390_0</td>\n",
       "    </tr>\n",
       "    <tr>\n",
       "      <th>7640</th>\n",
       "      <td>0</td>\n",
       "      <td>0</td>\n",
       "      <td>400</td>\n",
       "      <td>0.00</td>\n",
       "      <td>0</td>\n",
       "      <td>0.999276</td>\n",
       "      <td>26670118.88</td>\n",
       "      <td>0.999276</td>\n",
       "      <td>0.999276</td>\n",
       "      <td>0.999169</td>\n",
       "      <td>116842.25</td>\n",
       "      <td>0.999276</td>\n",
       "      <td>41687.22</td>\n",
       "      <td>0.999248</td>\n",
       "      <td>0.519752</td>\n",
       "      <td>40</td>\n",
       "      <td>0_400_0</td>\n",
       "    </tr>\n",
       "    <tr>\n",
       "      <th>7831</th>\n",
       "      <td>0</td>\n",
       "      <td>0</td>\n",
       "      <td>410</td>\n",
       "      <td>0.00</td>\n",
       "      <td>0</td>\n",
       "      <td>0.999062</td>\n",
       "      <td>26670118.88</td>\n",
       "      <td>0.999062</td>\n",
       "      <td>0.999062</td>\n",
       "      <td>0.998955</td>\n",
       "      <td>19018.92</td>\n",
       "      <td>0.999062</td>\n",
       "      <td>9510.48</td>\n",
       "      <td>0.999026</td>\n",
       "      <td>1.250505</td>\n",
       "      <td>41</td>\n",
       "      <td>0_410_0</td>\n",
       "    </tr>\n",
       "    <tr>\n",
       "      <th>8022</th>\n",
       "      <td>0</td>\n",
       "      <td>0</td>\n",
       "      <td>420</td>\n",
       "      <td>0.00</td>\n",
       "      <td>0</td>\n",
       "      <td>0.998955</td>\n",
       "      <td>26670118.88</td>\n",
       "      <td>0.998955</td>\n",
       "      <td>0.998955</td>\n",
       "      <td>0.998848</td>\n",
       "      <td>186.44</td>\n",
       "      <td>0.998955</td>\n",
       "      <td>65074.54</td>\n",
       "      <td>0.998848</td>\n",
       "      <td>1.239777</td>\n",
       "      <td>42</td>\n",
       "      <td>0_420_0</td>\n",
       "    </tr>\n",
       "    <tr>\n",
       "      <th>8213</th>\n",
       "      <td>0</td>\n",
       "      <td>0</td>\n",
       "      <td>430</td>\n",
       "      <td>0.00</td>\n",
       "      <td>0</td>\n",
       "      <td>0.998955</td>\n",
       "      <td>26670118.88</td>\n",
       "      <td>0.998955</td>\n",
       "      <td>0.998955</td>\n",
       "      <td>0.998848</td>\n",
       "      <td>96482.70</td>\n",
       "      <td>0.998955</td>\n",
       "      <td>34401.87</td>\n",
       "      <td>0.998927</td>\n",
       "      <td>0.569820</td>\n",
       "      <td>43</td>\n",
       "      <td>0_430_0</td>\n",
       "    </tr>\n",
       "    <tr>\n",
       "      <th>8404</th>\n",
       "      <td>0</td>\n",
       "      <td>0</td>\n",
       "      <td>440</td>\n",
       "      <td>0.00</td>\n",
       "      <td>0</td>\n",
       "      <td>0.999062</td>\n",
       "      <td>26670118.88</td>\n",
       "      <td>0.999062</td>\n",
       "      <td>0.999062</td>\n",
       "      <td>0.998955</td>\n",
       "      <td>30579.44</td>\n",
       "      <td>0.999062</td>\n",
       "      <td>88205.04</td>\n",
       "      <td>0.998982</td>\n",
       "      <td>0.109673</td>\n",
       "      <td>44</td>\n",
       "      <td>0_440_0</td>\n",
       "    </tr>\n",
       "    <tr>\n",
       "      <th>8595</th>\n",
       "      <td>0</td>\n",
       "      <td>0</td>\n",
       "      <td>450</td>\n",
       "      <td>0.00</td>\n",
       "      <td>0</td>\n",
       "      <td>0.999276</td>\n",
       "      <td>26670118.88</td>\n",
       "      <td>0.999276</td>\n",
       "      <td>0.999276</td>\n",
       "      <td>0.999169</td>\n",
       "      <td>50355.00</td>\n",
       "      <td>0.999276</td>\n",
       "      <td>35159.02</td>\n",
       "      <td>0.999232</td>\n",
       "      <td>1.169443</td>\n",
       "      <td>45</td>\n",
       "      <td>0_450_0</td>\n",
       "    </tr>\n",
       "    <tr>\n",
       "      <th>8786</th>\n",
       "      <td>0</td>\n",
       "      <td>0</td>\n",
       "      <td>460</td>\n",
       "      <td>354831.32</td>\n",
       "      <td>1</td>\n",
       "      <td>0.999491</td>\n",
       "      <td>26766712.89</td>\n",
       "      <td>1.000241</td>\n",
       "      <td>0.999812</td>\n",
       "      <td>0.999383</td>\n",
       "      <td>120598.11</td>\n",
       "      <td>0.999491</td>\n",
       "      <td>64083.36</td>\n",
       "      <td>0.999453</td>\n",
       "      <td>-2.880096</td>\n",
       "      <td>46</td>\n",
       "      <td>0_460_0</td>\n",
       "    </tr>\n",
       "    <tr>\n",
       "      <th>8977</th>\n",
       "      <td>0</td>\n",
       "      <td>0</td>\n",
       "      <td>470</td>\n",
       "      <td>968926.56</td>\n",
       "      <td>1</td>\n",
       "      <td>0.999383</td>\n",
       "      <td>26804603.87</td>\n",
       "      <td>1.000241</td>\n",
       "      <td>0.999919</td>\n",
       "      <td>0.999276</td>\n",
       "      <td>71996.72</td>\n",
       "      <td>0.999383</td>\n",
       "      <td>18747.27</td>\n",
       "      <td>0.999361</td>\n",
       "      <td>0.129938</td>\n",
       "      <td>47</td>\n",
       "      <td>0_470_0</td>\n",
       "    </tr>\n",
       "    <tr>\n",
       "      <th>9168</th>\n",
       "      <td>0</td>\n",
       "      <td>0</td>\n",
       "      <td>480</td>\n",
       "      <td>1268787.96</td>\n",
       "      <td>1</td>\n",
       "      <td>0.999491</td>\n",
       "      <td>26804603.87</td>\n",
       "      <td>1.000241</td>\n",
       "      <td>1.000241</td>\n",
       "      <td>0.999383</td>\n",
       "      <td>87767.07</td>\n",
       "      <td>0.999491</td>\n",
       "      <td>18656.00</td>\n",
       "      <td>0.999472</td>\n",
       "      <td>-1.320243</td>\n",
       "      <td>48</td>\n",
       "      <td>0_480_0</td>\n",
       "    </tr>\n",
       "    <tr>\n",
       "      <th>9359</th>\n",
       "      <td>0</td>\n",
       "      <td>0</td>\n",
       "      <td>490</td>\n",
       "      <td>1180033.46</td>\n",
       "      <td>1</td>\n",
       "      <td>0.999383</td>\n",
       "      <td>26910717.29</td>\n",
       "      <td>1.000241</td>\n",
       "      <td>1.000026</td>\n",
       "      <td>0.999276</td>\n",
       "      <td>52971.68</td>\n",
       "      <td>0.999383</td>\n",
       "      <td>33390.66</td>\n",
       "      <td>0.999342</td>\n",
       "      <td>0.189543</td>\n",
       "      <td>49</td>\n",
       "      <td>0_490_0</td>\n",
       "    </tr>\n",
       "    <tr>\n",
       "      <th>9550</th>\n",
       "      <td>0</td>\n",
       "      <td>0</td>\n",
       "      <td>500</td>\n",
       "      <td>1158754.78</td>\n",
       "      <td>1</td>\n",
       "      <td>0.999491</td>\n",
       "      <td>26914637.05</td>\n",
       "      <td>1.000241</td>\n",
       "      <td>1.000026</td>\n",
       "      <td>0.999383</td>\n",
       "      <td>52137.93</td>\n",
       "      <td>0.999491</td>\n",
       "      <td>81899.84</td>\n",
       "      <td>0.999425</td>\n",
       "      <td>0.979900</td>\n",
       "      <td>50</td>\n",
       "      <td>0_500_0</td>\n",
       "    </tr>\n",
       "    <tr>\n",
       "      <th>9741</th>\n",
       "      <td>0</td>\n",
       "      <td>0</td>\n",
       "      <td>510</td>\n",
       "      <td>1088759.13</td>\n",
       "      <td>1</td>\n",
       "      <td>0.999598</td>\n",
       "      <td>26967180.45</td>\n",
       "      <td>1.000241</td>\n",
       "      <td>1.000241</td>\n",
       "      <td>0.999491</td>\n",
       "      <td>43188.64</td>\n",
       "      <td>0.999598</td>\n",
       "      <td>9329.00</td>\n",
       "      <td>0.999579</td>\n",
       "      <td>0.649691</td>\n",
       "      <td>51</td>\n",
       "      <td>0_510_0</td>\n",
       "    </tr>\n",
       "    <tr>\n",
       "      <th>9932</th>\n",
       "      <td>0</td>\n",
       "      <td>0</td>\n",
       "      <td>520</td>\n",
       "      <td>1008684.09</td>\n",
       "      <td>1</td>\n",
       "      <td>0.999598</td>\n",
       "      <td>27047255.49</td>\n",
       "      <td>1.000241</td>\n",
       "      <td>1.000026</td>\n",
       "      <td>0.999383</td>\n",
       "      <td>19493.43</td>\n",
       "      <td>0.999598</td>\n",
       "      <td>78456.89</td>\n",
       "      <td>0.999426</td>\n",
       "      <td>6.779432</td>\n",
       "      <td>52</td>\n",
       "      <td>0_520_0</td>\n",
       "    </tr>\n",
       "    <tr>\n",
       "      <th>10123</th>\n",
       "      <td>0</td>\n",
       "      <td>0</td>\n",
       "      <td>530</td>\n",
       "      <td>998138.08</td>\n",
       "      <td>1</td>\n",
       "      <td>0.999491</td>\n",
       "      <td>27075253.75</td>\n",
       "      <td>1.000241</td>\n",
       "      <td>1.000026</td>\n",
       "      <td>0.999383</td>\n",
       "      <td>70978.47</td>\n",
       "      <td>0.999491</td>\n",
       "      <td>35166.56</td>\n",
       "      <td>0.999455</td>\n",
       "      <td>6.140471</td>\n",
       "      <td>53</td>\n",
       "      <td>0_530_0</td>\n",
       "    </tr>\n",
       "    <tr>\n",
       "      <th>10314</th>\n",
       "      <td>0</td>\n",
       "      <td>0</td>\n",
       "      <td>540</td>\n",
       "      <td>906957.07</td>\n",
       "      <td>1</td>\n",
       "      <td>0.999383</td>\n",
       "      <td>27183793.68</td>\n",
       "      <td>1.000241</td>\n",
       "      <td>0.999919</td>\n",
       "      <td>0.999276</td>\n",
       "      <td>111912.00</td>\n",
       "      <td>0.999383</td>\n",
       "      <td>9793.35</td>\n",
       "      <td>0.999375</td>\n",
       "      <td>9.759665</td>\n",
       "      <td>54</td>\n",
       "      <td>0_540_0</td>\n",
       "    </tr>\n",
       "  </tbody>\n",
       "</table>\n",
       "</div>"
      ],
      "text/plain": [
       "       stock_id  date_id  seconds_in_bucket  imbalance_size  \\\n",
       "0             0        0                  0      3180602.69   \n",
       "191           0        0                 10      1299772.70   \n",
       "382           0        0                 20      1299772.70   \n",
       "573           0        0                 30      1299772.70   \n",
       "764           0        0                 40      1218204.43   \n",
       "955           0        0                 50      1218204.43   \n",
       "1146          0        0                 60      1218204.43   \n",
       "1337          0        0                 70      1264494.89   \n",
       "1528          0        0                 80      1189832.86   \n",
       "1719          0        0                 90      1189272.89   \n",
       "1910          0        0                100      1249282.50   \n",
       "2101          0        0                110      1277280.77   \n",
       "2292          0        0                120      1216057.90   \n",
       "2483          0        0                130      1216057.90   \n",
       "2674          0        0                140      1104904.79   \n",
       "2865          0        0                150      1085679.32   \n",
       "3056          0        0                160      1085679.32   \n",
       "3247          0        0                170      1085679.32   \n",
       "3438          0        0                180      1445736.98   \n",
       "3629          0        0                190      1771730.09   \n",
       "3820          0        0                200      1743731.83   \n",
       "4011          0        0                210      1743731.83   \n",
       "4202          0        0                220      1743731.83   \n",
       "4393          0        0                230      1797301.84   \n",
       "4584          0        0                240      1783022.73   \n",
       "4775          0        0                250      2445554.96   \n",
       "4966          0        0                260      2396184.69   \n",
       "5157          0        0                270      2396184.69   \n",
       "5348          0        0                280      7226445.05   \n",
       "5539          0        0                290      8512685.26   \n",
       "5730          0        0                300            0.00   \n",
       "5921          0        0                310            0.00   \n",
       "6112          0        0                320            0.00   \n",
       "6303          0        0                330            0.00   \n",
       "6494          0        0                340            0.00   \n",
       "6685          0        0                350            0.00   \n",
       "6876          0        0                360            0.00   \n",
       "7067          0        0                370            0.00   \n",
       "7258          0        0                380            0.00   \n",
       "7449          0        0                390            0.00   \n",
       "7640          0        0                400            0.00   \n",
       "7831          0        0                410            0.00   \n",
       "8022          0        0                420            0.00   \n",
       "8213          0        0                430            0.00   \n",
       "8404          0        0                440            0.00   \n",
       "8595          0        0                450            0.00   \n",
       "8786          0        0                460       354831.32   \n",
       "8977          0        0                470       968926.56   \n",
       "9168          0        0                480      1268787.96   \n",
       "9359          0        0                490      1180033.46   \n",
       "9550          0        0                500      1158754.78   \n",
       "9741          0        0                510      1088759.13   \n",
       "9932          0        0                520      1008684.09   \n",
       "10123         0        0                530       998138.08   \n",
       "10314         0        0                540       906957.07   \n",
       "\n",
       "       imbalance_buy_sell_flag  reference_price  matched_size  far_price  \\\n",
       "0                            1         0.999812   13380276.64        NaN   \n",
       "191                          1         1.000026   15261106.63        NaN   \n",
       "382                          1         0.999919   15261106.63        NaN   \n",
       "573                          1         1.000133   15261106.63        NaN   \n",
       "764                          1         1.000455   15342674.90        NaN   \n",
       "955                          1         1.000455   15342674.90        NaN   \n",
       "1146                         1         1.000562   15342674.90        NaN   \n",
       "1337                         1         1.000455   15352380.96        NaN   \n",
       "1528                         1         1.000241   15427043.00        NaN   \n",
       "1719                         1         1.000562   15427602.97        NaN   \n",
       "1910                         1         1.000348   15427602.97        NaN   \n",
       "2101                         1         1.000133   15399604.70        NaN   \n",
       "2292                         1         1.000133   15460827.57        NaN   \n",
       "2483                         1         1.000026   15460827.57        NaN   \n",
       "2674                         1         0.999919   15571980.68        NaN   \n",
       "2865                         1         0.999812   15591206.15        NaN   \n",
       "3056                         1         0.999598   15591206.15        NaN   \n",
       "3247                         1         0.999598   15591206.15        NaN   \n",
       "3438                         1         0.999705   15642349.64        NaN   \n",
       "3629                         1         0.999812   15642349.64        NaN   \n",
       "3820                         1         0.999383   15670347.91        NaN   \n",
       "4011                         1         0.999383   15670347.91        NaN   \n",
       "4202                         1         0.999383   15670347.91        NaN   \n",
       "4393                         1         0.999276   15670347.91        NaN   \n",
       "4584                         1         0.999705   15687146.86        NaN   \n",
       "4775                         1         0.999276   15687986.81        NaN   \n",
       "4966                         1         0.999276   15737357.08        NaN   \n",
       "5157                         1         0.999383   15737357.08        NaN   \n",
       "5348                         1         0.999383   16782158.94        NaN   \n",
       "5539                         1         0.999919   17414453.05        NaN   \n",
       "5730                         0         1.000241   26670118.88   1.000241   \n",
       "5921                         0         0.999919   26670118.88   0.999919   \n",
       "6112                         0         0.999919   26670118.88   0.999919   \n",
       "6303                         0         0.999812   26670118.88   0.999812   \n",
       "6494                         0         0.999491   26670118.88   0.999491   \n",
       "6685                         0         0.999169   26670118.88   0.999169   \n",
       "6876                         0         0.999062   26670118.88   0.999062   \n",
       "7067                         0         0.999383   26670118.88   0.999383   \n",
       "7258                         0         0.999276   26670118.88   0.999276   \n",
       "7449                         0         0.999276   26670118.88   0.999276   \n",
       "7640                         0         0.999276   26670118.88   0.999276   \n",
       "7831                         0         0.999062   26670118.88   0.999062   \n",
       "8022                         0         0.998955   26670118.88   0.998955   \n",
       "8213                         0         0.998955   26670118.88   0.998955   \n",
       "8404                         0         0.999062   26670118.88   0.999062   \n",
       "8595                         0         0.999276   26670118.88   0.999276   \n",
       "8786                         1         0.999491   26766712.89   1.000241   \n",
       "8977                         1         0.999383   26804603.87   1.000241   \n",
       "9168                         1         0.999491   26804603.87   1.000241   \n",
       "9359                         1         0.999383   26910717.29   1.000241   \n",
       "9550                         1         0.999491   26914637.05   1.000241   \n",
       "9741                         1         0.999598   26967180.45   1.000241   \n",
       "9932                         1         0.999598   27047255.49   1.000241   \n",
       "10123                        1         0.999491   27075253.75   1.000241   \n",
       "10314                        1         0.999383   27183793.68   1.000241   \n",
       "\n",
       "       near_price  bid_price   bid_size  ask_price  ask_size       wap  \\\n",
       "0             NaN   0.999812   60651.50   1.000026   8493.03  1.000000   \n",
       "191           NaN   0.999812   13996.50   1.000026  23519.16  0.999892   \n",
       "382           NaN   0.999812    4665.50   0.999919  12131.60  0.999842   \n",
       "573           NaN   1.000026   55998.00   1.000133  46203.30  1.000085   \n",
       "764           NaN   1.000241   14655.95   1.000455  26610.45  1.000317   \n",
       "955           NaN   1.000348   42012.00   1.000455   9897.22  1.000434   \n",
       "1146          NaN   1.000455   14005.50   1.000562  10085.04  1.000517   \n",
       "1337          NaN   1.000348   37904.16   1.000455  17366.82  1.000421   \n",
       "1528          NaN   1.000133    9427.34   1.000241  61984.40  1.000148   \n",
       "1719          NaN   1.000348   23340.00   1.000562  40433.54  1.000426   \n",
       "1910          NaN   1.000241    9801.75   1.000348  42572.16  1.000261   \n",
       "2101          NaN   1.000026    5039.82   1.000133  28375.36  1.000042   \n",
       "2292          NaN   0.999812   43482.46   1.000026  68224.23  0.999895   \n",
       "2483          NaN   0.999812   32658.50   1.000026  13999.50  0.999962   \n",
       "2674          NaN   0.999705   33028.20   0.999919  25196.40  0.999826   \n",
       "2865          NaN   0.999705   51688.20   0.999812  15769.39  0.999787   \n",
       "3056          NaN   0.999491    7089.28   0.999598    186.58  0.999595   \n",
       "3247          NaN   0.999383   29939.67   0.999598  28173.58  0.999494   \n",
       "3438          NaN   0.999598   18658.00   0.999705   9330.00  0.999669   \n",
       "3629          NaN   0.999705   18660.00   0.999812  21181.37  0.999755   \n",
       "3820          NaN   0.999276   11191.20   0.999383  59692.80  0.999293   \n",
       "4011          NaN   0.999169   30119.75   0.999383  74802.54  0.999231   \n",
       "4202          NaN   0.999169   20794.75   0.999383  84502.62  0.999211   \n",
       "4393          NaN   0.999169   18743.25   0.999276   9326.00  0.999241   \n",
       "4584          NaN   0.999491   37778.40   0.999705  37320.00  0.999598   \n",
       "4775          NaN   0.999276    9326.00   0.999491  51304.00  0.999309   \n",
       "4966          NaN   0.999276    9326.00   0.999383  13803.96  0.999319   \n",
       "5157          NaN   0.999276    9326.00   0.999383  41784.96  0.999296   \n",
       "5348          NaN   0.999705   13995.00   1.000026  23985.81  0.999823   \n",
       "5539          NaN   1.000241    3734.00   1.000776   9620.20  1.000390   \n",
       "5730     1.000241   1.000026   19319.31   1.000241  16149.55  1.000143   \n",
       "5921     0.999919   0.999812   22767.64   0.999919  18664.00  0.999871   \n",
       "6112     0.999919   0.999705   49262.40   0.999919  37607.96  0.999826   \n",
       "6303     0.999812   0.999705   27990.00   0.999812  14276.43  0.999776   \n",
       "6494     0.999491   0.999169   18743.25   0.999383  40012.83  0.999237   \n",
       "6685     0.999169   0.999062   22564.08   0.999169  37486.50  0.999102   \n",
       "6876     0.999062   0.998955   46987.92   0.999062  96969.60  0.998990   \n",
       "7067     0.999383   0.999276     746.08   0.999383  22384.80  0.999280   \n",
       "7258     0.999276   0.999169   46904.75   0.999276   2797.80  0.999270   \n",
       "7449     0.999276   0.999169  116842.25   0.999276  50173.88  0.999244   \n",
       "7640     0.999276   0.999169  116842.25   0.999276  41687.22  0.999248   \n",
       "7831     0.999062   0.998955   19018.92   0.999062   9510.48  0.999026   \n",
       "8022     0.998955   0.998848     186.44   0.998955  65074.54  0.998848   \n",
       "8213     0.998955   0.998848   96482.70   0.998955  34401.87  0.998927   \n",
       "8404     0.999062   0.998955   30579.44   0.999062  88205.04  0.998982   \n",
       "8595     0.999276   0.999169   50355.00   0.999276  35159.02  0.999232   \n",
       "8786     0.999812   0.999383  120598.11   0.999491  64083.36  0.999453   \n",
       "8977     0.999919   0.999276   71996.72   0.999383  18747.27  0.999361   \n",
       "9168     1.000241   0.999383   87767.07   0.999491  18656.00  0.999472   \n",
       "9359     1.000026   0.999276   52971.68   0.999383  33390.66  0.999342   \n",
       "9550     1.000026   0.999383   52137.93   0.999491  81899.84  0.999425   \n",
       "9741     1.000241   0.999491   43188.64   0.999598   9329.00  0.999579   \n",
       "9932     1.000026   0.999383   19493.43   0.999598  78456.89  0.999426   \n",
       "10123    1.000026   0.999383   70978.47   0.999491  35166.56  0.999455   \n",
       "10314    0.999919   0.999276  111912.00   0.999383   9793.35  0.999375   \n",
       "\n",
       "          target  time_id   row_id  \n",
       "0      -3.029704        0    0_0_0  \n",
       "191     0.389814        1   0_10_0  \n",
       "382     4.220009        2   0_20_0  \n",
       "573     5.450249        3   0_30_0  \n",
       "764     3.169775        4   0_40_0  \n",
       "955     0.599623        5   0_50_0  \n",
       "1146   -0.200272        6   0_60_0  \n",
       "1337    2.410412        7   0_70_0  \n",
       "1528   -0.389814        8   0_80_0  \n",
       "1719   -4.339814        9   0_90_0  \n",
       "1910   -2.049804       10  0_100_0  \n",
       "2101    0.020266       11  0_110_0  \n",
       "2292    2.290011       12  0_120_0  \n",
       "2483    1.000166       13  0_130_0  \n",
       "2674   -1.699925       14  0_140_0  \n",
       "2865   -1.680255       15  0_150_0  \n",
       "3056   -4.119873       16  0_160_0  \n",
       "3247   -4.490018       17  0_170_0  \n",
       "3438   -3.029704       18  0_180_0  \n",
       "3629   -5.919933       19  0_190_0  \n",
       "3820    0.510216       20  0_200_0  \n",
       "4011    0.690222       21  0_210_0  \n",
       "4202    5.270243       22  0_220_0  \n",
       "4393    6.630421       23  0_230_0  \n",
       "4584    2.130270       24  0_240_0  \n",
       "4775    2.290011       25  0_250_0  \n",
       "4966   -0.939965       26  0_260_0  \n",
       "5157   -1.059771       27  0_270_0  \n",
       "5348   -9.760261       28  0_280_0  \n",
       "5539  -10.679960       29  0_290_0  \n",
       "5730  -10.039806       30  0_300_0  \n",
       "5921   -6.039739       31  0_310_0  \n",
       "6112   -5.440116       32  0_320_0  \n",
       "6303   -7.439852       33  0_330_0  \n",
       "6494   -2.700090       34  0_340_0  \n",
       "6685   -4.469752       35  0_350_0  \n",
       "6876   -2.729893       36  0_360_0  \n",
       "7067   -4.240274       37  0_370_0  \n",
       "7258   -4.259944       38  0_380_0  \n",
       "7449   -2.009869       39  0_390_0  \n",
       "7640    0.519752       40  0_400_0  \n",
       "7831    1.250505       41  0_410_0  \n",
       "8022    1.239777       42  0_420_0  \n",
       "8213    0.569820       43  0_430_0  \n",
       "8404    0.109673       44  0_440_0  \n",
       "8595    1.169443       45  0_450_0  \n",
       "8786   -2.880096       46  0_460_0  \n",
       "8977    0.129938       47  0_470_0  \n",
       "9168   -1.320243       48  0_480_0  \n",
       "9359    0.189543       49  0_490_0  \n",
       "9550    0.979900       50  0_500_0  \n",
       "9741    0.649691       51  0_510_0  \n",
       "9932    6.779432       52  0_520_0  \n",
       "10123   6.140471       53  0_530_0  \n",
       "10314   9.759665       54  0_540_0  "
      ]
     },
     "execution_count": 21,
     "metadata": {},
     "output_type": "execute_result"
    }
   ],
   "source": [
    "asset_1_day_1"
   ]
  },
  {
   "cell_type": "code",
   "execution_count": 27,
   "metadata": {},
   "outputs": [],
   "source": [
    "to_plot = asset_1_day_1.loc[:, (\"target\", \"seconds_in_bucket\")].set_index('seconds_in_bucket')"
   ]
  },
  {
   "cell_type": "code",
   "execution_count": 30,
   "metadata": {},
   "outputs": [
    {
     "data": {
      "application/vnd.plotly.v1+json": {
       "config": {
        "plotlyServerURL": "https://plot.ly"
       },
       "data": [
        {
         "hovertemplate": "variable=target<br>seconds_in_bucket=%{x}<br>value=%{y}<extra></extra>",
         "legendgroup": "target",
         "marker": {
          "color": "#636efa",
          "symbol": "circle"
         },
         "mode": "markers",
         "name": "target",
         "orientation": "v",
         "showlegend": true,
         "type": "scatter",
         "x": [
          0,
          10,
          20,
          30,
          40,
          50,
          60,
          70,
          80,
          90,
          100,
          110,
          120,
          130,
          140,
          150,
          160,
          170,
          180,
          190,
          200,
          210,
          220,
          230,
          240,
          250,
          260,
          270,
          280,
          290,
          300,
          310,
          320,
          330,
          340,
          350,
          360,
          370,
          380,
          390,
          400,
          410,
          420,
          430,
          440,
          450,
          460,
          470,
          480,
          490,
          500,
          510,
          520,
          530,
          540
         ],
         "xaxis": "x",
         "y": [
          -3.029704,
          0.38981438,
          4.220009,
          5.4502487,
          3.169775,
          0.5996227,
          -0.2002716,
          2.4104118,
          -0.38981438,
          -4.339814,
          -2.0498037,
          0.02026558,
          2.2900105,
          1.0001659,
          -1.6999245,
          -1.6802549,
          -4.119873,
          -4.490018,
          -3.029704,
          -5.9199333,
          0.51021576,
          0.6902218,
          5.2702427,
          6.6304207,
          2.13027,
          2.2900105,
          -0.93996525,
          -1.0597706,
          -9.760261,
          -10.67996,
          -10.039806,
          -6.0397387,
          -5.440116,
          -7.4398518,
          -2.7000904,
          -4.4697523,
          -2.7298927,
          -4.2402744,
          -4.259944,
          -2.0098686,
          0.5197525,
          1.2505054,
          1.2397766,
          0.5698204,
          0.10967255,
          1.1694431,
          -2.8800964,
          0.12993813,
          -1.3202429,
          0.18954277,
          0.97990036,
          0.6496906,
          6.7794323,
          6.1404705,
          9.759665
         ],
         "yaxis": "y"
        }
       ],
       "layout": {
        "legend": {
         "title": {
          "text": "variable"
         },
         "tracegroupgap": 0
        },
        "margin": {
         "t": 60
        },
        "template": {
         "data": {
          "bar": [
           {
            "error_x": {
             "color": "#2a3f5f"
            },
            "error_y": {
             "color": "#2a3f5f"
            },
            "marker": {
             "line": {
              "color": "#E5ECF6",
              "width": 0.5
             }
            },
            "type": "bar"
           }
          ],
          "barpolar": [
           {
            "marker": {
             "line": {
              "color": "#E5ECF6",
              "width": 0.5
             }
            },
            "type": "barpolar"
           }
          ],
          "carpet": [
           {
            "aaxis": {
             "endlinecolor": "#2a3f5f",
             "gridcolor": "white",
             "linecolor": "white",
             "minorgridcolor": "white",
             "startlinecolor": "#2a3f5f"
            },
            "baxis": {
             "endlinecolor": "#2a3f5f",
             "gridcolor": "white",
             "linecolor": "white",
             "minorgridcolor": "white",
             "startlinecolor": "#2a3f5f"
            },
            "type": "carpet"
           }
          ],
          "choropleth": [
           {
            "colorbar": {
             "outlinewidth": 0,
             "ticks": ""
            },
            "type": "choropleth"
           }
          ],
          "contour": [
           {
            "colorbar": {
             "outlinewidth": 0,
             "ticks": ""
            },
            "colorscale": [
             [
              0,
              "#0d0887"
             ],
             [
              0.1111111111111111,
              "#46039f"
             ],
             [
              0.2222222222222222,
              "#7201a8"
             ],
             [
              0.3333333333333333,
              "#9c179e"
             ],
             [
              0.4444444444444444,
              "#bd3786"
             ],
             [
              0.5555555555555556,
              "#d8576b"
             ],
             [
              0.6666666666666666,
              "#ed7953"
             ],
             [
              0.7777777777777778,
              "#fb9f3a"
             ],
             [
              0.8888888888888888,
              "#fdca26"
             ],
             [
              1,
              "#f0f921"
             ]
            ],
            "type": "contour"
           }
          ],
          "contourcarpet": [
           {
            "colorbar": {
             "outlinewidth": 0,
             "ticks": ""
            },
            "type": "contourcarpet"
           }
          ],
          "heatmap": [
           {
            "colorbar": {
             "outlinewidth": 0,
             "ticks": ""
            },
            "colorscale": [
             [
              0,
              "#0d0887"
             ],
             [
              0.1111111111111111,
              "#46039f"
             ],
             [
              0.2222222222222222,
              "#7201a8"
             ],
             [
              0.3333333333333333,
              "#9c179e"
             ],
             [
              0.4444444444444444,
              "#bd3786"
             ],
             [
              0.5555555555555556,
              "#d8576b"
             ],
             [
              0.6666666666666666,
              "#ed7953"
             ],
             [
              0.7777777777777778,
              "#fb9f3a"
             ],
             [
              0.8888888888888888,
              "#fdca26"
             ],
             [
              1,
              "#f0f921"
             ]
            ],
            "type": "heatmap"
           }
          ],
          "heatmapgl": [
           {
            "colorbar": {
             "outlinewidth": 0,
             "ticks": ""
            },
            "colorscale": [
             [
              0,
              "#0d0887"
             ],
             [
              0.1111111111111111,
              "#46039f"
             ],
             [
              0.2222222222222222,
              "#7201a8"
             ],
             [
              0.3333333333333333,
              "#9c179e"
             ],
             [
              0.4444444444444444,
              "#bd3786"
             ],
             [
              0.5555555555555556,
              "#d8576b"
             ],
             [
              0.6666666666666666,
              "#ed7953"
             ],
             [
              0.7777777777777778,
              "#fb9f3a"
             ],
             [
              0.8888888888888888,
              "#fdca26"
             ],
             [
              1,
              "#f0f921"
             ]
            ],
            "type": "heatmapgl"
           }
          ],
          "histogram": [
           {
            "marker": {
             "colorbar": {
              "outlinewidth": 0,
              "ticks": ""
             }
            },
            "type": "histogram"
           }
          ],
          "histogram2d": [
           {
            "colorbar": {
             "outlinewidth": 0,
             "ticks": ""
            },
            "colorscale": [
             [
              0,
              "#0d0887"
             ],
             [
              0.1111111111111111,
              "#46039f"
             ],
             [
              0.2222222222222222,
              "#7201a8"
             ],
             [
              0.3333333333333333,
              "#9c179e"
             ],
             [
              0.4444444444444444,
              "#bd3786"
             ],
             [
              0.5555555555555556,
              "#d8576b"
             ],
             [
              0.6666666666666666,
              "#ed7953"
             ],
             [
              0.7777777777777778,
              "#fb9f3a"
             ],
             [
              0.8888888888888888,
              "#fdca26"
             ],
             [
              1,
              "#f0f921"
             ]
            ],
            "type": "histogram2d"
           }
          ],
          "histogram2dcontour": [
           {
            "colorbar": {
             "outlinewidth": 0,
             "ticks": ""
            },
            "colorscale": [
             [
              0,
              "#0d0887"
             ],
             [
              0.1111111111111111,
              "#46039f"
             ],
             [
              0.2222222222222222,
              "#7201a8"
             ],
             [
              0.3333333333333333,
              "#9c179e"
             ],
             [
              0.4444444444444444,
              "#bd3786"
             ],
             [
              0.5555555555555556,
              "#d8576b"
             ],
             [
              0.6666666666666666,
              "#ed7953"
             ],
             [
              0.7777777777777778,
              "#fb9f3a"
             ],
             [
              0.8888888888888888,
              "#fdca26"
             ],
             [
              1,
              "#f0f921"
             ]
            ],
            "type": "histogram2dcontour"
           }
          ],
          "mesh3d": [
           {
            "colorbar": {
             "outlinewidth": 0,
             "ticks": ""
            },
            "type": "mesh3d"
           }
          ],
          "parcoords": [
           {
            "line": {
             "colorbar": {
              "outlinewidth": 0,
              "ticks": ""
             }
            },
            "type": "parcoords"
           }
          ],
          "pie": [
           {
            "automargin": true,
            "type": "pie"
           }
          ],
          "scatter": [
           {
            "marker": {
             "colorbar": {
              "outlinewidth": 0,
              "ticks": ""
             }
            },
            "type": "scatter"
           }
          ],
          "scatter3d": [
           {
            "line": {
             "colorbar": {
              "outlinewidth": 0,
              "ticks": ""
             }
            },
            "marker": {
             "colorbar": {
              "outlinewidth": 0,
              "ticks": ""
             }
            },
            "type": "scatter3d"
           }
          ],
          "scattercarpet": [
           {
            "marker": {
             "colorbar": {
              "outlinewidth": 0,
              "ticks": ""
             }
            },
            "type": "scattercarpet"
           }
          ],
          "scattergeo": [
           {
            "marker": {
             "colorbar": {
              "outlinewidth": 0,
              "ticks": ""
             }
            },
            "type": "scattergeo"
           }
          ],
          "scattergl": [
           {
            "marker": {
             "colorbar": {
              "outlinewidth": 0,
              "ticks": ""
             }
            },
            "type": "scattergl"
           }
          ],
          "scattermapbox": [
           {
            "marker": {
             "colorbar": {
              "outlinewidth": 0,
              "ticks": ""
             }
            },
            "type": "scattermapbox"
           }
          ],
          "scatterpolar": [
           {
            "marker": {
             "colorbar": {
              "outlinewidth": 0,
              "ticks": ""
             }
            },
            "type": "scatterpolar"
           }
          ],
          "scatterpolargl": [
           {
            "marker": {
             "colorbar": {
              "outlinewidth": 0,
              "ticks": ""
             }
            },
            "type": "scatterpolargl"
           }
          ],
          "scatterternary": [
           {
            "marker": {
             "colorbar": {
              "outlinewidth": 0,
              "ticks": ""
             }
            },
            "type": "scatterternary"
           }
          ],
          "surface": [
           {
            "colorbar": {
             "outlinewidth": 0,
             "ticks": ""
            },
            "colorscale": [
             [
              0,
              "#0d0887"
             ],
             [
              0.1111111111111111,
              "#46039f"
             ],
             [
              0.2222222222222222,
              "#7201a8"
             ],
             [
              0.3333333333333333,
              "#9c179e"
             ],
             [
              0.4444444444444444,
              "#bd3786"
             ],
             [
              0.5555555555555556,
              "#d8576b"
             ],
             [
              0.6666666666666666,
              "#ed7953"
             ],
             [
              0.7777777777777778,
              "#fb9f3a"
             ],
             [
              0.8888888888888888,
              "#fdca26"
             ],
             [
              1,
              "#f0f921"
             ]
            ],
            "type": "surface"
           }
          ],
          "table": [
           {
            "cells": {
             "fill": {
              "color": "#EBF0F8"
             },
             "line": {
              "color": "white"
             }
            },
            "header": {
             "fill": {
              "color": "#C8D4E3"
             },
             "line": {
              "color": "white"
             }
            },
            "type": "table"
           }
          ]
         },
         "layout": {
          "annotationdefaults": {
           "arrowcolor": "#2a3f5f",
           "arrowhead": 0,
           "arrowwidth": 1
          },
          "autotypenumbers": "strict",
          "coloraxis": {
           "colorbar": {
            "outlinewidth": 0,
            "ticks": ""
           }
          },
          "colorscale": {
           "diverging": [
            [
             0,
             "#8e0152"
            ],
            [
             0.1,
             "#c51b7d"
            ],
            [
             0.2,
             "#de77ae"
            ],
            [
             0.3,
             "#f1b6da"
            ],
            [
             0.4,
             "#fde0ef"
            ],
            [
             0.5,
             "#f7f7f7"
            ],
            [
             0.6,
             "#e6f5d0"
            ],
            [
             0.7,
             "#b8e186"
            ],
            [
             0.8,
             "#7fbc41"
            ],
            [
             0.9,
             "#4d9221"
            ],
            [
             1,
             "#276419"
            ]
           ],
           "sequential": [
            [
             0,
             "#0d0887"
            ],
            [
             0.1111111111111111,
             "#46039f"
            ],
            [
             0.2222222222222222,
             "#7201a8"
            ],
            [
             0.3333333333333333,
             "#9c179e"
            ],
            [
             0.4444444444444444,
             "#bd3786"
            ],
            [
             0.5555555555555556,
             "#d8576b"
            ],
            [
             0.6666666666666666,
             "#ed7953"
            ],
            [
             0.7777777777777778,
             "#fb9f3a"
            ],
            [
             0.8888888888888888,
             "#fdca26"
            ],
            [
             1,
             "#f0f921"
            ]
           ],
           "sequentialminus": [
            [
             0,
             "#0d0887"
            ],
            [
             0.1111111111111111,
             "#46039f"
            ],
            [
             0.2222222222222222,
             "#7201a8"
            ],
            [
             0.3333333333333333,
             "#9c179e"
            ],
            [
             0.4444444444444444,
             "#bd3786"
            ],
            [
             0.5555555555555556,
             "#d8576b"
            ],
            [
             0.6666666666666666,
             "#ed7953"
            ],
            [
             0.7777777777777778,
             "#fb9f3a"
            ],
            [
             0.8888888888888888,
             "#fdca26"
            ],
            [
             1,
             "#f0f921"
            ]
           ]
          },
          "colorway": [
           "#636efa",
           "#EF553B",
           "#00cc96",
           "#ab63fa",
           "#FFA15A",
           "#19d3f3",
           "#FF6692",
           "#B6E880",
           "#FF97FF",
           "#FECB52"
          ],
          "font": {
           "color": "#2a3f5f"
          },
          "geo": {
           "bgcolor": "white",
           "lakecolor": "white",
           "landcolor": "#E5ECF6",
           "showlakes": true,
           "showland": true,
           "subunitcolor": "white"
          },
          "hoverlabel": {
           "align": "left"
          },
          "hovermode": "closest",
          "mapbox": {
           "style": "light"
          },
          "paper_bgcolor": "white",
          "plot_bgcolor": "#E5ECF6",
          "polar": {
           "angularaxis": {
            "gridcolor": "white",
            "linecolor": "white",
            "ticks": ""
           },
           "bgcolor": "#E5ECF6",
           "radialaxis": {
            "gridcolor": "white",
            "linecolor": "white",
            "ticks": ""
           }
          },
          "scene": {
           "xaxis": {
            "backgroundcolor": "#E5ECF6",
            "gridcolor": "white",
            "gridwidth": 2,
            "linecolor": "white",
            "showbackground": true,
            "ticks": "",
            "zerolinecolor": "white"
           },
           "yaxis": {
            "backgroundcolor": "#E5ECF6",
            "gridcolor": "white",
            "gridwidth": 2,
            "linecolor": "white",
            "showbackground": true,
            "ticks": "",
            "zerolinecolor": "white"
           },
           "zaxis": {
            "backgroundcolor": "#E5ECF6",
            "gridcolor": "white",
            "gridwidth": 2,
            "linecolor": "white",
            "showbackground": true,
            "ticks": "",
            "zerolinecolor": "white"
           }
          },
          "shapedefaults": {
           "line": {
            "color": "#2a3f5f"
           }
          },
          "ternary": {
           "aaxis": {
            "gridcolor": "white",
            "linecolor": "white",
            "ticks": ""
           },
           "baxis": {
            "gridcolor": "white",
            "linecolor": "white",
            "ticks": ""
           },
           "bgcolor": "#E5ECF6",
           "caxis": {
            "gridcolor": "white",
            "linecolor": "white",
            "ticks": ""
           }
          },
          "title": {
           "x": 0.05
          },
          "xaxis": {
           "automargin": true,
           "gridcolor": "white",
           "linecolor": "white",
           "ticks": "",
           "title": {
            "standoff": 15
           },
           "zerolinecolor": "white",
           "zerolinewidth": 2
          },
          "yaxis": {
           "automargin": true,
           "gridcolor": "white",
           "linecolor": "white",
           "ticks": "",
           "title": {
            "standoff": 15
           },
           "zerolinecolor": "white",
           "zerolinewidth": 2
          }
         }
        },
        "xaxis": {
         "anchor": "y",
         "domain": [
          0,
          1
         ],
         "title": {
          "text": "seconds_in_bucket"
         }
        },
        "yaxis": {
         "anchor": "x",
         "domain": [
          0,
          1
         ],
         "title": {
          "text": "value"
         }
        }
       }
      }
     },
     "metadata": {},
     "output_type": "display_data"
    }
   ],
   "source": [
    "px.scatter(to_plot)"
   ]
  },
  {
   "cell_type": "code",
   "execution_count": null,
   "metadata": {},
   "outputs": [],
   "source": [
    "def "
   ]
  }
 ],
 "metadata": {
  "kernelspec": {
   "display_name": "felix",
   "language": "python",
   "name": "python3"
  },
  "language_info": {
   "codemirror_mode": {
    "name": "ipython",
    "version": 3
   },
   "file_extension": ".py",
   "mimetype": "text/x-python",
   "name": "python",
   "nbconvert_exporter": "python",
   "pygments_lexer": "ipython3",
   "version": "3.11.5"
  }
 },
 "nbformat": 4,
 "nbformat_minor": 2
}
