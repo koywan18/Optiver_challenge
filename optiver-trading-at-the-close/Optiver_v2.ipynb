{
 "cells": [
  {
   "cell_type": "code",
   "execution_count": 24,
   "metadata": {},
   "outputs": [],
   "source": [
    "import numpy as np\n",
    "import pandas as pd\n",
    "import matplotlib.pyplot as plt\n",
    "import gc\n",
    "from joblib import dump, load\n",
    "\n",
    "from sklearn import set_config\n",
    "from sklearn.preprocessing import FunctionTransformer\n",
    "from sklearn.pipeline import Pipeline\n",
    "from sklearn.model_selection import TimeSeriesSplit\n",
    "from sklearn.metrics import mean_absolute_error\n",
    "from catboost import CatBoostRegressor, Pool"
   ]
  },
  {
   "cell_type": "code",
   "execution_count": 5,
   "metadata": {},
   "outputs": [],
   "source": [
    "def nan_handler(data):\n",
    "    data_copy = data.copy()\n",
    "    # Replace infinite values with NaN\n",
    "    data_copy.replace([np.inf, -np.inf], np.nan, inplace=True)\n",
    "    for column in data_copy.columns:\n",
    "        if data_copy[column].isnull().any():\n",
    "            data_copy[column].fillna(data_copy[column].median(), inplace=True)\n",
    "    return data_copy"
   ]
  },
  {
   "cell_type": "code",
   "execution_count": 6,
   "metadata": {},
   "outputs": [],
   "source": [
    "def create_features(data):\n",
    "    # Imbalance features\n",
    "    data['bid_ask_size_imbalance'] = data['bid_size'] - data['ask_size']\n",
    "    data['matched_imbalance_ratio'] = (data['imbalance_size'] - data['matched_size']) / (data['matched_size'] + data['imbalance_size'])\n",
    "\n",
    "    # Price differences and ratios\n",
    "    price_cols = ['ask_price', 'bid_price', 'far_price', 'near_price']\n",
    "    for i in range(len(price_cols)):\n",
    "        for j in range(i + 1, len(price_cols)):\n",
    "            col1, col2 = price_cols[i], price_cols[j]\n",
    "            data[f'{col1}_{col2}_diff'] = data[col1] - data[col2]\n",
    "            data[f'{col1}_{col2}_ratio'] = data[col1] / data[col2]\n",
    "\n",
    "    # Statistical features\n",
    "    data['price_mean'] = data['wap'].rolling(window=10).mean()\n",
    "    data['price_std'] = data['wap'].rolling(window=10).std()\n",
    "\n",
    "    # Time-based features\n",
    "    data['time_of_day'] = data['seconds_in_bucket'] // 60  # Convert seconds to minutes\n",
    "\n",
    "    return data"
   ]
  },
  {
   "cell_type": "code",
   "execution_count": 16,
   "metadata": {},
   "outputs": [],
   "source": [
    "\n",
    "\n",
    "# Define your feature engineering transformer\n",
    "FeatureEngineering = FunctionTransformer(create_features)\n",
    "Feature_cleaning = FunctionTransformer(nan_handler)\n",
    "\n",
    "# Initialize the CatBoost Regressor for GPU\n",
    "catboost_model = CatBoostRegressor(\n",
    "    task_type='GPU',  # Change to GPU\n",
    "    verbose=False,\n",
    "    random_state=42  # for reproducibility\n",
    ")\n",
    "\n",
    "# Create a pipeline\n",
    "pipeline = Pipeline([\n",
    "    ('feature_engineering', FeatureEngineering),\n",
    "    ('regressor', catboost_model)\n",
    "])\n",
    "\n",
    "\n"
   ]
  },
  {
   "cell_type": "code",
   "execution_count": 8,
   "metadata": {},
   "outputs": [],
   "source": [
    "dtypes = {\n",
    "    'stock_id': np.uint8,\n",
    "    'date_id': np.uint16,\n",
    "    'seconds_in_bucket': np.uint16,\n",
    "    'imbalance_buy_sell_flag': np.int8,\n",
    "    'time_id': np.uint16,\n",
    "}"
   ]
  },
  {
   "cell_type": "code",
   "execution_count": 14,
   "metadata": {},
   "outputs": [],
   "source": [
    "train_not_clean = pd.read_csv('train.csv', dtype=dtypes).drop(['row_id', 'time_id'], axis=1)\n",
    "test_not_clean = pd.read_csv('example_test_files/test.csv', dtype=dtypes).drop(['row_id', 'time_id'], axis=1)\n"
   ]
  },
  {
   "cell_type": "code",
   "execution_count": 15,
   "metadata": {},
   "outputs": [],
   "source": [
    "train = nan_handler(train_not_clean)\n",
    "test = nan_handler(test_not_clean)"
   ]
  },
  {
   "cell_type": "code",
   "execution_count": null,
   "metadata": {},
   "outputs": [],
   "source": [
    "# Your data\n",
    "X = train.drop('target',axis=1) \n",
    "y = train['target']\n",
    "\n",
    "# Proceed with TimeSeriesSplit and model training\n",
    "tss = TimeSeriesSplit(n_splits=5)\n",
    "validation_scores = []\n",
    "training_scores = []\n",
    "\n",
    "for train_index, val_index in tss.split(X):\n",
    "    X_train, X_val = X.iloc[train_index], X.iloc[val_index]\n",
    "    y_train, y_val = y[train_index], y[val_index]\n",
    "\n",
    "    pipeline.fit(X_train, y_train)\n",
    "    val_predictions = pipeline.predict(X_val)\n",
    "    train_predictions = pipeline.predict(X_train)\n",
    "\n",
    "    val_score = mean_absolute_error(y_val, val_predictions)\n",
    "    train_score = mean_absolute_error(y_train, train_predictions)\n",
    "\n",
    "    validation_scores.append(val_score)\n",
    "    training_scores.append(train_score)\n",
    "\n",
    "# Calculate and print average scores\n",
    "avg_val_score = np.mean(validation_scores)\n",
    "avg_train_score = np.mean(training_scores)\n",
    "\n",
    "print(f\"Average Training MAE: {avg_train_score}\")\n",
    "print(f\"Average Validation MAE: {avg_val_score}\")\n",
    "\n"
   ]
  },
  {
   "cell_type": "code",
   "execution_count": 18,
   "metadata": {},
   "outputs": [
    {
     "name": "stdout",
     "output_type": "stream",
     "text": [
      "Average Training MAE: 6.073920117423537\n",
      "Average Validation MAE: 6.5992352416445375\n"
     ]
    }
   ],
   "source": [
    "print(f\"Average Training MAE: {avg_train_score}\")\n",
    "print(f\"Average Validation MAE: {avg_val_score}\")"
   ]
  },
  {
   "cell_type": "code",
   "execution_count": 19,
   "metadata": {},
   "outputs": [],
   "source": [
    "# Train the final model on the entire dataset\n",
    "final_model = pipeline.fit(X, y)"
   ]
  },
  {
   "cell_type": "code",
   "execution_count": 21,
   "metadata": {},
   "outputs": [],
   "source": [
    "pre_trained_pipeline = Pipeline([\n",
    "    ('feature_cleaning', Feature_cleaning),\n",
    "    ('pre_trained_model', final_model)\n",
    "])"
   ]
  },
  {
   "cell_type": "code",
   "execution_count": 22,
   "metadata": {},
   "outputs": [
    {
     "data": {
      "text/plain": [
       "array([-1.87684567, -0.21027406,  2.02085565, ..., -0.26712981,\n",
       "        1.24411629, -1.8548337 ])"
      ]
     },
     "execution_count": 22,
     "metadata": {},
     "output_type": "execute_result"
    }
   ],
   "source": [
    "pre_trained_pipeline.predict(test_not_clean)"
   ]
  },
  {
   "cell_type": "code",
   "execution_count": 25,
   "metadata": {},
   "outputs": [
    {
     "data": {
      "text/plain": [
       "['API/app/models/catboost_2.joblib']"
      ]
     },
     "execution_count": 25,
     "metadata": {},
     "output_type": "execute_result"
    }
   ],
   "source": [
    "dump(pre_trained_pipeline, 'API/app/models/catboost_2.joblib')"
   ]
  },
  {
   "cell_type": "code",
   "execution_count": null,
   "metadata": {},
   "outputs": [],
   "source": []
  }
 ],
 "metadata": {
  "kernelspec": {
   "display_name": "llm_felix_1",
   "language": "python",
   "name": "python3"
  },
  "language_info": {
   "codemirror_mode": {
    "name": "ipython",
    "version": 3
   },
   "file_extension": ".py",
   "mimetype": "text/x-python",
   "name": "python",
   "nbconvert_exporter": "python",
   "pygments_lexer": "ipython3",
   "version": "3.11.5"
  }
 },
 "nbformat": 4,
 "nbformat_minor": 2
}
