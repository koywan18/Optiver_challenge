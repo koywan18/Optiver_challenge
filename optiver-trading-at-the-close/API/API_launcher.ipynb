{
 "cells": [
  {
   "cell_type": "code",
   "execution_count": 1,
   "metadata": {},
   "outputs": [],
   "source": [
    "import requests\n",
    "from pprint import pprint\n",
    "import pandas as pd\n",
    "import numpy as np"
   ]
  },
  {
   "cell_type": "code",
   "execution_count": 2,
   "metadata": {},
   "outputs": [],
   "source": [
    "from app.feature_creator import FeatureCreator\n",
    "feature_create = FeatureCreator()\n",
    "from app.NanHandler import NanHandlerTransformer\n",
    "data_clean = NanHandlerTransformer()"
   ]
  },
  {
   "cell_type": "code",
   "execution_count": 44,
   "metadata": {},
   "outputs": [
    {
     "name": "stdout",
     "output_type": "stream",
     "text": [
      "{'prediction': [7.49453353595527, 11.328402319097222]}\n"
     ]
    }
   ],
   "source": [
    "url = 'http://0.0.0.0:5000' + '/predict'\n",
    "\n",
    "headers = {\"Content-Type\": \"application/json\"}\n",
    "\n",
    "data = \"\"\"\n",
    "   {\n",
    "   \"stock_id\":[1,2],\n",
    "   \"date_id\":[2,2],\n",
    "   \"seconds_in_bucket\":[3,2],\n",
    "   \"imbalance_size\":[5,4],\n",
    "   \"imbalance_buy_sell_flag\":[9,19],\n",
    "   \"reference_price\":[6,5],\n",
    "   \"matched_size\":[6,5],\n",
    "   \"far_price\":[0,5],\n",
    "   \"near_price\":[15,6],\n",
    "   \"bid_price\":[9,8],\n",
    "   \"bid_size\":[9,11],\n",
    "   \"ask_price\":[8,5],\n",
    "   \"ask_size\":[1,2],\n",
    "   \"wap\":[7,7],\n",
    "   \"time_id\":[5,7],\n",
    "   \"row_id\":[\"0_0_0\", \"0_0_1\"]\n",
    "   }\n",
    "\"\"\"\n",
    "\n",
    "response = requests.post(url, headers=headers, data=data)\n",
    "if response.ok:\n",
    "    pprint(response.json())\n",
    "else:\n",
    "    print(\"Error, status code: \", response.status_code)"
   ]
  },
  {
   "cell_type": "code",
   "execution_count": 47,
   "metadata": {},
   "outputs": [
    {
     "name": "stdout",
     "output_type": "stream",
     "text": [
      "{'prediction': [7.683649161353969]}\n"
     ]
    }
   ],
   "source": [
    "url = 'http://0.0.0.0:5000' + '/predict'\n",
    "\n",
    "headers = {\"Content-Type\": \"application/json\"}\n",
    "\n",
    "data = \"\"\"\n",
    "   {\n",
    "   \"stock_id\":\"5\",\n",
    "   \"date_id\":\"5\",\n",
    "   \"seconds_in_bucket\":\"5\",\n",
    "   \"imbalance_size\":\"5\",\n",
    "   \"imbalance_buy_sell_flag\":30,\n",
    "   \"reference_price\":\"5\",\n",
    "   \"matched_size\":6,\n",
    "   \"far_price\":2,\n",
    "   \"near_price\":\"2\",\n",
    "   \"bid_price\":9,\n",
    "   \"bid_size\":5,\n",
    "   \"ask_price\":8,\n",
    "   \"ask_size\":51,\n",
    "   \"wap\":66,\n",
    "   \"time_id\":5,\n",
    "   \"row_id\":\"0_0_0\"\n",
    "   }\n",
    "\"\"\"\n",
    "\n",
    "response = requests.post(url, headers=headers, data=data)\n",
    "if response.ok:\n",
    "    pprint(response.json())\n",
    "else:\n",
    "    print(\"Error, status code: \", response.status_code)"
   ]
  },
  {
   "cell_type": "markdown",
   "metadata": {},
   "source": []
  },
  {
   "cell_type": "code",
   "execution_count": 32,
   "metadata": {},
   "outputs": [
    {
     "data": {
      "text/plain": [
       "16"
      ]
     },
     "execution_count": 32,
     "metadata": {},
     "output_type": "execute_result"
    }
   ],
   "source": [
    "dico = {\n",
    "   \"stock_id\":[1,2],\n",
    "   \"date_id\":[2,2],\n",
    "   \"seconds_in_bucket\":[3,2],\n",
    "   \"imbalance_size\":[5,4],\n",
    "   \"imbalance_buy_sell_flag\":[9,0],\n",
    "   \"reference_price\":[6,5],\n",
    "   \"matched_size\":[6,5],\n",
    "   \"far_price\":[0,5],\n",
    "   \"near_price\":[10,6],\n",
    "   \"bid_price\":[9,8],\n",
    "   \"bid_size\":[9,11],\n",
    "   \"ask_price\":[8,5],\n",
    "   \"ask_size\":[1,2],\n",
    "   \"wap\":[7,7],\n",
    "   \"time_id\":[5,7],\n",
    "   \"row_id\":[\"0_0_0\", \"0_0_1\"]\n",
    "   }\n",
    "len(dico)\n"
   ]
  },
  {
   "cell_type": "code",
   "execution_count": 22,
   "metadata": {},
   "outputs": [],
   "source": [
    "train = pd.read_csv('../train.csv').drop(['row_id', 'time_id'], axis=1)"
   ]
  },
  {
   "cell_type": "code",
   "execution_count": 3,
   "metadata": {},
   "outputs": [],
   "source": [
    "data_json = {\n",
    "   \"stock_id\":[1,2],\n",
    "   \"date_id\":[2,2],\n",
    "   \"seconds_in_bucket\":[3,2],\n",
    "   \"imbalance_size\":[5,4],\n",
    "   \"imbalance_buy_sell_flag\":[9,0],\n",
    "   \"reference_price\":[6,5],\n",
    "   \"matched_size\":[6,5],\n",
    "   \"far_price\":['5',5],\n",
    "   \"near_price\":[10,6],\n",
    "   \"bid_price\":[9,8],\n",
    "   \"bid_size\":[9,11],\n",
    "   \"ask_price\":[8,5],\n",
    "   \"ask_size\":[1,2],\n",
    "   \"wap\":[7,7],\n",
    "   \"time_id\":[5,6],\n",
    "   \"row_id\":[\"0_0_0\", \"0_0_1\"]\n",
    "   }"
   ]
  },
  {
   "cell_type": "code",
   "execution_count": 4,
   "metadata": {},
   "outputs": [],
   "source": [
    "data_test = pd.DataFrame(data_json).drop(['row_id', 'time_id'], axis=1)"
   ]
  },
  {
   "cell_type": "code",
   "execution_count": 5,
   "metadata": {},
   "outputs": [],
   "source": [
    "data_test_clean = data_clean.transform(data_test)"
   ]
  },
  {
   "cell_type": "code",
   "execution_count": 6,
   "metadata": {},
   "outputs": [
    {
     "data": {
      "text/html": [
       "<div>\n",
       "<style scoped>\n",
       "    .dataframe tbody tr th:only-of-type {\n",
       "        vertical-align: middle;\n",
       "    }\n",
       "\n",
       "    .dataframe tbody tr th {\n",
       "        vertical-align: top;\n",
       "    }\n",
       "\n",
       "    .dataframe thead th {\n",
       "        text-align: right;\n",
       "    }\n",
       "</style>\n",
       "<table border=\"1\" class=\"dataframe\">\n",
       "  <thead>\n",
       "    <tr style=\"text-align: right;\">\n",
       "      <th></th>\n",
       "      <th>stock_id</th>\n",
       "      <th>date_id</th>\n",
       "      <th>seconds_in_bucket</th>\n",
       "      <th>imbalance_size</th>\n",
       "      <th>imbalance_buy_sell_flag</th>\n",
       "      <th>reference_price</th>\n",
       "      <th>matched_size</th>\n",
       "      <th>far_price</th>\n",
       "      <th>near_price</th>\n",
       "      <th>bid_price</th>\n",
       "      <th>...</th>\n",
       "      <th>intraday_momentum</th>\n",
       "      <th>time_decay</th>\n",
       "      <th>bid_ask_spread</th>\n",
       "      <th>imbalance_ratio</th>\n",
       "      <th>wap_mean</th>\n",
       "      <th>wap_std</th>\n",
       "      <th>price_vs_ma</th>\n",
       "      <th>wap_lag_1</th>\n",
       "      <th>log_bid_size</th>\n",
       "      <th>log_ask_size</th>\n",
       "    </tr>\n",
       "  </thead>\n",
       "  <tbody>\n",
       "    <tr>\n",
       "      <th>0</th>\n",
       "      <td>1</td>\n",
       "      <td>2</td>\n",
       "      <td>3</td>\n",
       "      <td>5</td>\n",
       "      <td>9</td>\n",
       "      <td>6</td>\n",
       "      <td>6</td>\n",
       "      <td>5</td>\n",
       "      <td>10</td>\n",
       "      <td>9</td>\n",
       "      <td>...</td>\n",
       "      <td>0.0</td>\n",
       "      <td>0.75</td>\n",
       "      <td>-1</td>\n",
       "      <td>0.833333</td>\n",
       "      <td>7.0</td>\n",
       "      <td>0.0</td>\n",
       "      <td>1.0</td>\n",
       "      <td>7.0</td>\n",
       "      <td>2.302585</td>\n",
       "      <td>0.693147</td>\n",
       "    </tr>\n",
       "    <tr>\n",
       "      <th>1</th>\n",
       "      <td>2</td>\n",
       "      <td>2</td>\n",
       "      <td>2</td>\n",
       "      <td>4</td>\n",
       "      <td>0</td>\n",
       "      <td>5</td>\n",
       "      <td>5</td>\n",
       "      <td>5</td>\n",
       "      <td>6</td>\n",
       "      <td>8</td>\n",
       "      <td>...</td>\n",
       "      <td>0.0</td>\n",
       "      <td>0.50</td>\n",
       "      <td>-3</td>\n",
       "      <td>0.800000</td>\n",
       "      <td>7.0</td>\n",
       "      <td>0.0</td>\n",
       "      <td>1.0</td>\n",
       "      <td>7.0</td>\n",
       "      <td>2.484907</td>\n",
       "      <td>1.098612</td>\n",
       "    </tr>\n",
       "  </tbody>\n",
       "</table>\n",
       "<p>2 rows × 24 columns</p>\n",
       "</div>"
      ],
      "text/plain": [
       "   stock_id  date_id  seconds_in_bucket  imbalance_size  \\\n",
       "0         1        2                  3               5   \n",
       "1         2        2                  2               4   \n",
       "\n",
       "   imbalance_buy_sell_flag  reference_price  matched_size far_price  \\\n",
       "0                        9                6             6         5   \n",
       "1                        0                5             5         5   \n",
       "\n",
       "   near_price  bid_price  ...  intraday_momentum  time_decay  bid_ask_spread  \\\n",
       "0          10          9  ...                0.0        0.75              -1   \n",
       "1           6          8  ...                0.0        0.50              -3   \n",
       "\n",
       "   imbalance_ratio  wap_mean  wap_std  price_vs_ma  wap_lag_1  log_bid_size  \\\n",
       "0         0.833333       7.0      0.0          1.0        7.0      2.302585   \n",
       "1         0.800000       7.0      0.0          1.0        7.0      2.484907   \n",
       "\n",
       "   log_ask_size  \n",
       "0      0.693147  \n",
       "1      1.098612  \n",
       "\n",
       "[2 rows x 24 columns]"
      ]
     },
     "execution_count": 6,
     "metadata": {},
     "output_type": "execute_result"
    }
   ],
   "source": [
    "feature_create.transform(data_test_clean)"
   ]
  },
  {
   "cell_type": "code",
   "execution_count": 46,
   "metadata": {},
   "outputs": [
    {
     "data": {
      "text/plain": [
       "'{\"stock_id\":{\"0\":1,\"1\":2},\"date_id\":{\"0\":2,\"1\":2},\"seconds_in_bucket\":{\"0\":3,\"1\":2},\"imbalance_size\":{\"0\":5,\"1\":4},\"imbalance_buy_sell_flag\":{\"0\":9,\"1\":0},\"reference_price\":{\"0\":6,\"1\":5},\"matched_size\":{\"0\":6,\"1\":5},\"far_price\":{\"0\":\"5\",\"1\":5},\"near_price\":{\"0\":10,\"1\":6},\"bid_price\":{\"0\":9,\"1\":8},\"bid_size\":{\"0\":9,\"1\":11},\"ask_price\":{\"0\":8,\"1\":5},\"ask_size\":{\"0\":1,\"1\":2},\"wap\":{\"0\":7,\"1\":7}}'"
      ]
     },
     "execution_count": 46,
     "metadata": {},
     "output_type": "execute_result"
    }
   ],
   "source": [
    "data_test_clean.to_json()"
   ]
  },
  {
   "cell_type": "code",
   "execution_count": 50,
   "metadata": {},
   "outputs": [
    {
     "data": {
      "text/html": [
       "<div>\n",
       "<style scoped>\n",
       "    .dataframe tbody tr th:only-of-type {\n",
       "        vertical-align: middle;\n",
       "    }\n",
       "\n",
       "    .dataframe tbody tr th {\n",
       "        vertical-align: top;\n",
       "    }\n",
       "\n",
       "    .dataframe thead th {\n",
       "        text-align: right;\n",
       "    }\n",
       "</style>\n",
       "<table border=\"1\" class=\"dataframe\">\n",
       "  <thead>\n",
       "    <tr style=\"text-align: right;\">\n",
       "      <th></th>\n",
       "      <th>ask_price</th>\n",
       "      <th>ask_size</th>\n",
       "      <th>bid_price</th>\n",
       "      <th>bid_size</th>\n",
       "      <th>date_id</th>\n",
       "      <th>far_price</th>\n",
       "      <th>imbalance_buy_sell_flag</th>\n",
       "      <th>imbalance_size</th>\n",
       "      <th>matched_size</th>\n",
       "      <th>near_price</th>\n",
       "      <th>reference_price</th>\n",
       "      <th>row_id</th>\n",
       "      <th>seconds_in_bucket</th>\n",
       "      <th>stock_id</th>\n",
       "      <th>time_id</th>\n",
       "      <th>wap</th>\n",
       "    </tr>\n",
       "  </thead>\n",
       "  <tbody>\n",
       "    <tr>\n",
       "      <th>0</th>\n",
       "      <td>8</td>\n",
       "      <td>1</td>\n",
       "      <td>9</td>\n",
       "      <td>9</td>\n",
       "      <td>2</td>\n",
       "      <td>0</td>\n",
       "      <td>9</td>\n",
       "      <td>5</td>\n",
       "      <td>6</td>\n",
       "      <td>10</td>\n",
       "      <td>caca</td>\n",
       "      <td>0_0_0</td>\n",
       "      <td>3</td>\n",
       "      <td>1</td>\n",
       "      <td>5</td>\n",
       "      <td>7</td>\n",
       "    </tr>\n",
       "  </tbody>\n",
       "</table>\n",
       "</div>"
      ],
      "text/plain": [
       "   ask_price  ask_size  bid_price  bid_size  date_id  far_price  \\\n",
       "0          8         1          9         9        2          0   \n",
       "\n",
       "   imbalance_buy_sell_flag  imbalance_size  matched_size  near_price  \\\n",
       "0                        9               5             6          10   \n",
       "\n",
       "  reference_price row_id  seconds_in_bucket  stock_id  time_id  wap  \n",
       "0            caca  0_0_0                  3         1        5    7  "
      ]
     },
     "execution_count": 50,
     "metadata": {},
     "output_type": "execute_result"
    }
   ],
   "source": [
    "pd.DataFrame({'ask_price': {'0': 8},\n",
    " 'ask_size': {'0': 1},\n",
    " 'bid_price': {'0': 9},\n",
    " 'bid_size': {'0': 9},\n",
    " 'date_id': {'0': 2},\n",
    " 'far_price': {'0': 0},\n",
    " 'imbalance_buy_sell_flag': {'0': 9},\n",
    " 'imbalance_size': {'0': 5},\n",
    " 'matched_size': {'0': 6},\n",
    " 'near_price': {'0': 10},\n",
    " 'reference_price': {'0': 'caca'},\n",
    " 'row_id': {'0': '0_0_0'},\n",
    " 'seconds_in_bucket': {'0': 3},\n",
    " 'stock_id': {'0': 1},\n",
    " 'time_id': {'0': 5},\n",
    " 'wap': {'0': 7}})"
   ]
  },
  {
   "cell_type": "code",
   "execution_count": null,
   "metadata": {},
   "outputs": [],
   "source": []
  }
 ],
 "metadata": {
  "kernelspec": {
   "display_name": ".venv",
   "language": "python",
   "name": "python3"
  },
  "language_info": {
   "codemirror_mode": {
    "name": "ipython",
    "version": 3
   },
   "file_extension": ".py",
   "mimetype": "text/x-python",
   "name": "python",
   "nbconvert_exporter": "python",
   "pygments_lexer": "ipython3",
   "version": "3.11.5"
  }
 },
 "nbformat": 4,
 "nbformat_minor": 2
}
